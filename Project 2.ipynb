{
 "cells": [
  {
   "cell_type": "markdown",
   "source": [
    "<h1> CSMODEL Project 2 </h1>\n",
    "<h2> Group 28</h2>\n",
    "Berenguer, Beatrice <br>\n",
    "Lim, Christopher <br>\n",
    "Uy, Justin Riley\n"
   ],
   "metadata": {}
  },
  {
   "cell_type": "code",
   "execution_count": 28,
   "source": [
    "import numpy as np\r\n",
    "import pandas as pd\r\n",
    "import matplotlib.pyplot as plt\r\n",
    "import seaborn as sns"
   ],
   "outputs": [],
   "metadata": {
    "ExecuteTime": {
     "end_time": "2021-09-12T03:22:41.647424Z",
     "start_time": "2021-09-12T03:22:37.335382Z"
    }
   }
  },
  {
   "cell_type": "markdown",
   "source": [
    "# Dataset Representation"
   ],
   "metadata": {}
  },
  {
   "cell_type": "markdown",
   "source": [
    "## Loading Data into DataFrame"
   ],
   "metadata": {}
  },
  {
   "cell_type": "code",
   "execution_count": 29,
   "source": [
    "col_names = [\"atmpt1\", \"atmpt2\", \"atmpt3\", \"atmpt4\", \"atmpt5\", \"atmpt6\", \"atmpt7\", \"atmpt8\"]\r\n",
    "df = pd.read_csv('Dataset1.csv', names=col_names)\r\n",
    "\r\n",
    "df = (df.fillna(0)).astype({'atmpt1' : int, 'atmpt2' : int, 'atmpt3' : int, 'atmpt4' : int, 'atmpt5' : int, 'atmpt6' : int, 'atmpt7' : int, 'atmpt8' : int})\r\n",
    "cols = [\"atmpt1\", \"atmpt2\", \"atmpt3\", \"atmpt4\", \"atmpt5\", \"atmpt6\", \"atmpt7\", \"atmpt8\"]\r\n",
    "df[cols] = df[cols].replace(0, np.nan)\r\n",
    "df[\"atmpt1\"] = df[\"atmpt1\"].replace(np.nan, 0)\r\n",
    "indices, rowSeries = zip(*df.iterrows())\r\n",
    "\r\n",
    "list = []\r\n",
    "for x in rowSeries:\r\n",
    "    remove_nan = x.dropna()\r\n",
    "    remove_nan = remove_nan.astype(int)\r\n",
    "    list.append(remove_nan.to_numpy())\r\n",
    "\r\n",
    "list"
   ],
   "outputs": [
    {
     "output_type": "execute_result",
     "data": {
      "text/plain": [
       "[array([ 5, 14]),\n",
       " array([ 0,  2, 10, 12]),\n",
       " array([ 3,  5, 13, 14, 16, 17, 19]),\n",
       " array([ 1,  3,  4,  7,  9, 10, 14, 17]),\n",
       " array([15, 16, 17]),\n",
       " array([ 3,  4,  5,  6,  7,  8, 12, 15]),\n",
       " array([ 1,  4, 10, 12, 13, 19]),\n",
       " array([ 2,  6, 15, 19]),\n",
       " array([ 2, 16]),\n",
       " array([ 0,  7, 11, 12, 13, 15, 16]),\n",
       " array([9]),\n",
       " array([2, 3, 5, 7, 8]),\n",
       " array([ 2,  4,  6,  9, 12, 13, 18, 19]),\n",
       " array([ 0,  1,  2,  7, 13, 15, 17, 19]),\n",
       " array([ 2,  7, 14, 19]),\n",
       " array([ 4,  5,  9, 13]),\n",
       " array([4]),\n",
       " array([ 5, 19]),\n",
       " array([ 0,  6, 16, 18, 19]),\n",
       " array([ 3,  4, 11, 13, 14, 15]),\n",
       " array([ 2, 11]),\n",
       " array([ 0,  1,  7,  9, 10, 11, 13]),\n",
       " array([ 0,  5,  8,  9, 12, 13, 16, 18]),\n",
       " array([ 4,  8, 10, 12, 14, 15, 17]),\n",
       " array([ 5,  7, 14]),\n",
       " array([ 0,  1,  3,  4,  8, 10, 12, 14]),\n",
       " array([3]),\n",
       " array([10, 14]),\n",
       " array([ 2,  5, 13, 15]),\n",
       " array([ 4,  6,  9, 10, 11, 13, 17]),\n",
       " array([ 0,  2, 11, 12, 13, 14, 15, 19]),\n",
       " array([10, 17]),\n",
       " array([19]),\n",
       " array([ 2,  8, 11, 12, 14, 15, 18]),\n",
       " array([11]),\n",
       " array([ 6,  7,  8, 12, 13, 15, 17, 18]),\n",
       " array([ 3,  8, 16]),\n",
       " array([11]),\n",
       " array([ 1,  5,  8,  9, 13, 16]),\n",
       " array([ 8, 10, 11, 13, 15]),\n",
       " array([15]),\n",
       " array([ 1,  4,  6, 10, 13]),\n",
       " array([ 3,  5,  7, 10, 11, 14, 19]),\n",
       " array([ 1,  4,  6, 11, 13, 15, 17, 18]),\n",
       " array([ 2,  5,  9, 11, 18, 19]),\n",
       " array([0, 2]),\n",
       " array([ 7,  8,  9, 12, 14, 15, 16]),\n",
       " array([ 1, 17]),\n",
       " array([ 0,  2,  3,  8, 13, 14, 16, 18]),\n",
       " array([11, 14, 17]),\n",
       " array([ 0,  3,  4,  5,  6, 15, 17, 19]),\n",
       " array([ 1,  3,  5,  7,  8, 16]),\n",
       " array([ 2,  5, 15]),\n",
       " array([ 1,  7,  8, 10, 15]),\n",
       " array([6]),\n",
       " array([ 5,  7, 14, 17, 18]),\n",
       " array([ 6,  7, 11, 15]),\n",
       " array([ 3,  8, 12]),\n",
       " array([ 0,  3,  9, 11, 12, 15, 17]),\n",
       " array([ 1,  7,  9, 12, 15, 18]),\n",
       " array([ 4,  5,  6,  7,  8, 14, 16, 18]),\n",
       " array([ 0,  7, 19]),\n",
       " array([ 1,  2, 13, 16, 17]),\n",
       " array([ 0,  5, 13, 14]),\n",
       " array([ 8,  9, 11, 12, 13, 15, 18]),\n",
       " array([ 3,  4,  7, 12, 13, 16, 18, 19]),\n",
       " array([4, 7]),\n",
       " array([8]),\n",
       " array([ 1,  3, 11, 13, 14, 19]),\n",
       " array([ 2,  5,  8, 16, 18]),\n",
       " array([ 2, 14, 17]),\n",
       " array([ 4,  5, 11, 13, 14, 15, 16]),\n",
       " array([12]),\n",
       " array([ 3,  4,  5, 12, 13]),\n",
       " array([ 3,  5, 10, 14, 16, 17, 18]),\n",
       " array([ 0,  1,  4, 10, 11, 12, 19]),\n",
       " array([ 7, 17]),\n",
       " array([17]),\n",
       " array([3, 5]),\n",
       " array([10, 12]),\n",
       " array([ 0,  1,  8, 10, 14, 18]),\n",
       " array([ 0,  4,  5,  6, 15, 17]),\n",
       " array([13, 16]),\n",
       " array([ 0,  6,  7,  9, 13, 16, 17]),\n",
       " array([ 3, 13]),\n",
       " array([ 3,  4,  7,  9, 11, 17]),\n",
       " array([ 5, 13]),\n",
       " array([ 2,  3,  4,  5,  7, 11, 17, 18]),\n",
       " array([ 3,  7,  9, 15, 17]),\n",
       " array([ 1,  7,  8,  9, 12, 15, 17]),\n",
       " array([ 0,  1,  2,  4,  9, 11, 14]),\n",
       " array([ 2,  4,  9, 18]),\n",
       " array([ 9, 11]),\n",
       " array([ 0,  3,  4,  5,  7, 11, 14, 19]),\n",
       " array([ 3,  7, 11, 13, 16, 18]),\n",
       " array([ 4,  6,  8, 10, 12, 14, 17]),\n",
       " array([ 0,  1,  4, 17]),\n",
       " array([9]),\n",
       " array([ 7, 13, 17, 19]),\n",
       " array([ 0,  8, 12, 16]),\n",
       " array([0, 1, 5, 8, 9]),\n",
       " array([13]),\n",
       " array([4, 5, 8]),\n",
       " array([12]),\n",
       " array([ 2,  4,  5,  7,  8, 12, 17]),\n",
       " array([15, 16]),\n",
       " array([ 4,  6,  9, 11, 14]),\n",
       " array([ 5,  6, 16]),\n",
       " array([ 1,  9, 10]),\n",
       " array([ 5, 11, 12, 19]),\n",
       " array([ 4,  5,  7, 16]),\n",
       " array([ 0,  1,  6, 13, 16, 18]),\n",
       " array([ 4, 14, 15, 16]),\n",
       " array([ 1,  3,  5,  7, 13, 14, 17]),\n",
       " array([ 0,  5,  6, 14]),\n",
       " array([14]),\n",
       " array([ 6, 14]),\n",
       " array([ 0,  5,  8, 11, 15, 18, 19]),\n",
       " array([5]),\n",
       " array([3, 8]),\n",
       " array([ 0,  2,  6, 11, 13, 15, 18]),\n",
       " array([ 0,  7, 15, 16, 17]),\n",
       " array([12, 15]),\n",
       " array([ 1, 15]),\n",
       " array([6]),\n",
       " array([ 2,  7,  8, 18]),\n",
       " array([ 6,  8, 11, 15, 17, 19]),\n",
       " array([2, 6]),\n",
       " array([ 0,  4,  7, 12, 14, 15, 19]),\n",
       " array([ 1,  2,  3,  8, 11, 14, 18]),\n",
       " array([19]),\n",
       " array([11, 12, 13]),\n",
       " array([ 3,  5, 10, 13, 17]),\n",
       " array([ 2,  6,  7,  8, 15, 16, 17, 18]),\n",
       " array([0, 1, 3, 4]),\n",
       " array([ 3,  5,  9, 10, 12, 13]),\n",
       " array([ 0,  2,  5,  6,  9, 12, 13, 15]),\n",
       " array([ 0,  6, 12, 19]),\n",
       " array([0, 4, 6]),\n",
       " array([ 4,  8, 10, 13, 14, 15, 16, 18]),\n",
       " array([ 4,  7, 10, 13, 14]),\n",
       " array([2, 3]),\n",
       " array([ 2,  3,  5, 14, 15, 16, 19]),\n",
       " array([2, 6]),\n",
       " array([ 0,  2,  5,  6, 10, 13, 17]),\n",
       " array([ 0,  3,  9, 12, 17]),\n",
       " array([ 6, 11, 14, 16]),\n",
       " array([ 6, 12]),\n",
       " array([ 2,  6, 10, 12, 13, 14, 17, 18]),\n",
       " array([ 1,  5,  6,  8, 12, 13, 15]),\n",
       " array([10, 11, 12, 15, 17]),\n",
       " array([ 0,  5, 10, 14, 15, 17]),\n",
       " array([ 3,  8, 14, 16]),\n",
       " array([ 8, 15, 17, 19]),\n",
       " array([ 0,  3,  5,  7, 11, 18]),\n",
       " array([ 0,  3,  8, 12, 18, 19]),\n",
       " array([ 4, 13, 15]),\n",
       " array([ 6, 16, 19]),\n",
       " array([ 1,  9, 17, 19]),\n",
       " array([ 0,  1, 10, 13, 14]),\n",
       " array([ 8,  9, 13, 14, 15]),\n",
       " array([ 1, 11]),\n",
       " array([ 5,  8, 13, 16]),\n",
       " array([ 1,  5,  7,  8, 10, 13, 18]),\n",
       " array([ 6,  7,  8, 12, 17, 18]),\n",
       " array([ 0,  2,  9, 12, 15, 18, 19]),\n",
       " array([ 8, 10, 12, 15, 16, 19]),\n",
       " array([ 1, 12]),\n",
       " array([ 1,  2,  7,  8,  9, 10, 17, 19]),\n",
       " array([ 3,  5,  9, 13, 14, 15, 16, 18]),\n",
       " array([ 1,  7, 10, 14, 19]),\n",
       " array([ 6,  7, 19]),\n",
       " array([ 0,  2,  3,  4,  6, 10, 13]),\n",
       " array([0]),\n",
       " array([ 1, 14]),\n",
       " array([ 2,  5,  6, 10, 13, 16]),\n",
       " array([ 6,  8, 10, 11, 13, 14, 15, 16]),\n",
       " array([ 1, 12, 13, 15, 16, 18]),\n",
       " array([ 7, 11]),\n",
       " array([ 5, 19]),\n",
       " array([12]),\n",
       " array([ 0,  5, 10, 11, 13, 16]),\n",
       " array([4, 8]),\n",
       " array([ 4, 12, 14]),\n",
       " array([ 3,  4,  5,  8,  9, 12, 16, 19]),\n",
       " array([ 0,  2,  5, 10, 16, 17, 19]),\n",
       " array([ 2,  3, 14]),\n",
       " array([ 5, 13, 18]),\n",
       " array([ 2,  8,  9, 11, 15, 16]),\n",
       " array([ 0,  4, 13, 15, 18]),\n",
       " array([ 4,  9, 14, 15, 18]),\n",
       " array([ 0,  5,  7, 18, 19]),\n",
       " array([ 8, 18]),\n",
       " array([0, 6, 7, 8]),\n",
       " array([12, 15, 19]),\n",
       " array([4, 6]),\n",
       " array([14]),\n",
       " array([ 0,  5,  8, 11, 18]),\n",
       " array([ 0,  2,  3,  5, 17]),\n",
       " array([ 0,  4,  8,  9, 10, 11, 15]),\n",
       " array([ 2,  3,  4,  6,  9, 11, 12, 14]),\n",
       " array([ 2,  3,  4, 10]),\n",
       " array([ 1,  4,  6,  7,  9, 10, 14]),\n",
       " array([10, 11, 13, 14, 15, 19]),\n",
       " array([7]),\n",
       " array([ 1, 10, 11, 13, 15]),\n",
       " array([ 9, 15, 17]),\n",
       " array([ 2,  4,  7, 12, 13, 16, 17, 19]),\n",
       " array([4, 8]),\n",
       " array([ 4, 10, 11, 13, 19]),\n",
       " array([ 0,  1,  2,  3,  6, 17, 18, 19]),\n",
       " array([ 1,  4, 11, 12, 15, 17]),\n",
       " array([0]),\n",
       " array([ 4,  6, 12, 14]),\n",
       " array([ 2,  4, 13, 14, 15, 17, 18, 19]),\n",
       " array([ 1, 14, 15, 19]),\n",
       " array([ 1,  2,  7, 19]),\n",
       " array([ 6, 10, 17]),\n",
       " array([ 3,  4,  5,  8, 11, 13, 14, 15]),\n",
       " array([ 1,  3,  5,  6,  8, 19]),\n",
       " array([ 0,  6, 12, 15, 17]),\n",
       " array([ 3,  4,  5,  9, 11, 13, 17]),\n",
       " array([ 0,  5,  6, 13, 18]),\n",
       " array([ 1,  7, 16]),\n",
       " array([ 4, 10, 13, 16]),\n",
       " array([1, 4, 6]),\n",
       " array([ 0,  4, 14]),\n",
       " array([2]),\n",
       " array([19]),\n",
       " array([ 0,  9, 10]),\n",
       " array([ 1,  3,  5,  6,  7, 11, 13, 14]),\n",
       " array([1]),\n",
       " array([ 1,  3,  5,  6,  7, 16, 18]),\n",
       " array([2]),\n",
       " array([12, 14, 19]),\n",
       " array([ 5,  6,  9, 17]),\n",
       " array([ 4,  9, 10, 11, 12, 15, 18]),\n",
       " array([ 5, 12]),\n",
       " array([ 3,  5,  6,  8, 12, 14, 16, 18]),\n",
       " array([ 4,  6,  8, 10, 15]),\n",
       " array([ 0,  2,  5,  6,  7,  9, 11]),\n",
       " array([ 2, 17]),\n",
       " array([ 2,  5,  6,  8, 10, 11, 15, 18]),\n",
       " array([ 3,  4,  5, 18]),\n",
       " array([ 1, 10, 18]),\n",
       " array([5]),\n",
       " array([ 0,  4, 15, 16]),\n",
       " array([13, 15, 19]),\n",
       " array([ 0,  3, 15]),\n",
       " array([ 1,  3,  7, 11, 15]),\n",
       " array([2, 5, 6, 7, 8]),\n",
       " array([ 5,  8,  9, 10, 12, 13, 18, 19]),\n",
       " array([ 3,  5,  7,  8,  9, 13, 14]),\n",
       " array([ 7, 17]),\n",
       " array([10, 13]),\n",
       " array([ 0, 15]),\n",
       " array([ 1,  5, 12, 15]),\n",
       " array([ 4,  7, 11, 14, 17]),\n",
       " array([ 0,  1,  2,  4, 19]),\n",
       " array([5, 8]),\n",
       " array([ 1,  2,  5, 14, 16]),\n",
       " array([ 0,  6, 10, 12]),\n",
       " array([13]),\n",
       " array([1]),\n",
       " array([ 0,  5, 12, 13, 16, 19]),\n",
       " array([11, 13]),\n",
       " array([ 3,  5,  7, 12, 14, 16, 18, 19]),\n",
       " array([ 0,  1,  4,  8, 14, 15, 17]),\n",
       " array([ 3,  4, 12, 13, 16]),\n",
       " array([ 2,  4,  8, 13]),\n",
       " array([ 6, 18]),\n",
       " array([ 2,  3,  5,  7,  8, 12]),\n",
       " array([ 6, 12, 17]),\n",
       " array([ 2,  5,  7,  9, 13, 17, 18, 19]),\n",
       " array([18]),\n",
       " array([0, 1, 3, 4]),\n",
       " array([7]),\n",
       " array([ 0,  1,  6, 10, 12, 14, 17, 18]),\n",
       " array([ 0,  4,  6, 12, 15, 16, 18]),\n",
       " array([ 1,  2,  5, 11, 12, 13, 16, 17]),\n",
       " array([ 1,  3,  9, 10, 15, 17]),\n",
       " array([ 2,  3, 10, 11, 18]),\n",
       " array([ 0,  1,  3,  4,  5,  9, 12, 17]),\n",
       " array([ 2, 13, 14, 15, 16]),\n",
       " array([ 4, 11, 13, 14]),\n",
       " array([ 6,  7,  9, 10, 12, 16, 17, 18]),\n",
       " array([ 4,  9, 12, 17, 19]),\n",
       " array([ 4, 10]),\n",
       " array([ 3,  8, 12, 16, 18]),\n",
       " array([ 9, 16]),\n",
       " array([ 1, 11, 15]),\n",
       " array([14]),\n",
       " array([ 1,  5, 11, 13, 15, 16, 18, 19]),\n",
       " array([ 5,  7,  8, 12, 19]),\n",
       " array([ 1,  5,  8, 11, 13, 15, 18, 19]),\n",
       " array([ 8, 13, 14]),\n",
       " array([ 4,  6,  9, 11]),\n",
       " array([ 2,  4,  8, 11, 12]),\n",
       " array([ 5,  6,  7,  9, 13, 14, 16]),\n",
       " array([5, 6])]"
      ]
     },
     "metadata": {},
     "execution_count": 29
    }
   ],
   "metadata": {
    "ExecuteTime": {
     "end_time": "2021-09-12T03:17:07.909460Z",
     "start_time": "2021-09-12T03:17:07.756651Z"
    }
   }
  },
  {
   "cell_type": "markdown",
   "source": [
    "## Brief Description of the Dataset"
   ],
   "metadata": {}
  },
  {
   "cell_type": "markdown",
   "source": [
    "The dataset we chose is named \"Dataset1\" which contains 300 observations containing a series of numbers sorted in ascending order. The amount of numbers per row varies between observations and is not consistent within the dataset. Looking at the initial structure of the dataset after turning into a Datframe, we can safely assume that it is an Associate Rule Mining dataset."
   ],
   "metadata": {}
  },
  {
   "cell_type": "markdown",
   "source": [
    "## Structure of the Dataset"
   ],
   "metadata": {}
  },
  {
   "cell_type": "code",
   "execution_count": 30,
   "source": [
    "df.columns"
   ],
   "outputs": [
    {
     "output_type": "execute_result",
     "data": {
      "text/plain": [
       "Index(['atmpt1', 'atmpt2', 'atmpt3', 'atmpt4', 'atmpt5', 'atmpt6', 'atmpt7',\n",
       "       'atmpt8'],\n",
       "      dtype='object')"
      ]
     },
     "metadata": {},
     "execution_count": 30
    }
   ],
   "metadata": {
    "ExecuteTime": {
     "end_time": "2021-09-12T03:17:07.924429Z",
     "start_time": "2021-09-12T03:17:07.913458Z"
    }
   }
  },
  {
   "cell_type": "code",
   "execution_count": 31,
   "source": [
    "df.info()"
   ],
   "outputs": [
    {
     "output_type": "stream",
     "name": "stdout",
     "text": [
      "<class 'pandas.core.frame.DataFrame'>\n",
      "RangeIndex: 300 entries, 0 to 299\n",
      "Data columns (total 8 columns):\n",
      " #   Column  Non-Null Count  Dtype  \n",
      "---  ------  --------------  -----  \n",
      " 0   atmpt1  300 non-null    float64\n",
      " 1   atmpt2  267 non-null    float64\n",
      " 2   atmpt3  222 non-null    float64\n",
      " 3   atmpt4  189 non-null    float64\n",
      " 4   atmpt5  151 non-null    float64\n",
      " 5   atmpt6  109 non-null    float64\n",
      " 6   atmpt7  80 non-null     float64\n",
      " 7   atmpt8  40 non-null     float64\n",
      "dtypes: float64(8)\n",
      "memory usage: 18.9 KB\n"
     ]
    }
   ],
   "metadata": {
    "ExecuteTime": {
     "end_time": "2021-09-12T03:17:07.956343Z",
     "start_time": "2021-09-12T03:17:07.927422Z"
    }
   }
  },
  {
   "cell_type": "markdown",
   "source": [
    "## Discuss the observations in the dataset file. \r\n"
   ],
   "metadata": {}
  },
  {
   "cell_type": "markdown",
   "source": [
    "The Dataset that will be used for this Project is named \"Dataset1\" which contains 300 observations each containing a series of numbers which, based on our internal discussion, we will represent as a student's set of scores for a retakeable online quiz. As the dataset is an **association rule mining** dataset, we chose to represent the Dataset as such because its data fits the description of our representation quite well and is very relevant to our current situation during the pandemic."
   ],
   "metadata": {}
  },
  {
   "cell_type": "markdown",
   "source": [
    "## Discuss the variables in the dataset file. \r\n"
   ],
   "metadata": {}
  },
  {
   "cell_type": "markdown",
   "source": [
    "There are 8 variables in the dataset our group has chosen and they represent attempts made by the student to answer the online quiz. This is why we chose to name every column (as seen below) after each of the students' attempt in taking the online quiz. "
   ],
   "metadata": {}
  },
  {
   "cell_type": "code",
   "execution_count": 32,
   "source": [
    "df.columns"
   ],
   "outputs": [
    {
     "output_type": "execute_result",
     "data": {
      "text/plain": [
       "Index(['atmpt1', 'atmpt2', 'atmpt3', 'atmpt4', 'atmpt5', 'atmpt6', 'atmpt7',\n",
       "       'atmpt8'],\n",
       "      dtype='object')"
      ]
     },
     "metadata": {},
     "execution_count": 32
    }
   ],
   "metadata": {
    "ExecuteTime": {
     "end_time": "2021-09-12T02:16:36.401472Z",
     "start_time": "2021-09-12T02:16:36.381489Z"
    }
   }
  },
  {
   "cell_type": "code",
   "execution_count": 33,
   "source": [
    "df"
   ],
   "outputs": [
    {
     "output_type": "execute_result",
     "data": {
      "text/html": [
       "<div>\n",
       "<style scoped>\n",
       "    .dataframe tbody tr th:only-of-type {\n",
       "        vertical-align: middle;\n",
       "    }\n",
       "\n",
       "    .dataframe tbody tr th {\n",
       "        vertical-align: top;\n",
       "    }\n",
       "\n",
       "    .dataframe thead th {\n",
       "        text-align: right;\n",
       "    }\n",
       "</style>\n",
       "<table border=\"1\" class=\"dataframe\">\n",
       "  <thead>\n",
       "    <tr style=\"text-align: right;\">\n",
       "      <th></th>\n",
       "      <th>atmpt1</th>\n",
       "      <th>atmpt2</th>\n",
       "      <th>atmpt3</th>\n",
       "      <th>atmpt4</th>\n",
       "      <th>atmpt5</th>\n",
       "      <th>atmpt6</th>\n",
       "      <th>atmpt7</th>\n",
       "      <th>atmpt8</th>\n",
       "    </tr>\n",
       "  </thead>\n",
       "  <tbody>\n",
       "    <tr>\n",
       "      <th>0</th>\n",
       "      <td>5.0</td>\n",
       "      <td>14.0</td>\n",
       "      <td>NaN</td>\n",
       "      <td>NaN</td>\n",
       "      <td>NaN</td>\n",
       "      <td>NaN</td>\n",
       "      <td>NaN</td>\n",
       "      <td>NaN</td>\n",
       "    </tr>\n",
       "    <tr>\n",
       "      <th>1</th>\n",
       "      <td>0.0</td>\n",
       "      <td>2.0</td>\n",
       "      <td>10.0</td>\n",
       "      <td>12.0</td>\n",
       "      <td>NaN</td>\n",
       "      <td>NaN</td>\n",
       "      <td>NaN</td>\n",
       "      <td>NaN</td>\n",
       "    </tr>\n",
       "    <tr>\n",
       "      <th>2</th>\n",
       "      <td>3.0</td>\n",
       "      <td>5.0</td>\n",
       "      <td>13.0</td>\n",
       "      <td>14.0</td>\n",
       "      <td>16.0</td>\n",
       "      <td>17.0</td>\n",
       "      <td>19.0</td>\n",
       "      <td>NaN</td>\n",
       "    </tr>\n",
       "    <tr>\n",
       "      <th>3</th>\n",
       "      <td>1.0</td>\n",
       "      <td>3.0</td>\n",
       "      <td>4.0</td>\n",
       "      <td>7.0</td>\n",
       "      <td>9.0</td>\n",
       "      <td>10.0</td>\n",
       "      <td>14.0</td>\n",
       "      <td>17.0</td>\n",
       "    </tr>\n",
       "    <tr>\n",
       "      <th>4</th>\n",
       "      <td>15.0</td>\n",
       "      <td>16.0</td>\n",
       "      <td>17.0</td>\n",
       "      <td>NaN</td>\n",
       "      <td>NaN</td>\n",
       "      <td>NaN</td>\n",
       "      <td>NaN</td>\n",
       "      <td>NaN</td>\n",
       "    </tr>\n",
       "    <tr>\n",
       "      <th>...</th>\n",
       "      <td>...</td>\n",
       "      <td>...</td>\n",
       "      <td>...</td>\n",
       "      <td>...</td>\n",
       "      <td>...</td>\n",
       "      <td>...</td>\n",
       "      <td>...</td>\n",
       "      <td>...</td>\n",
       "    </tr>\n",
       "    <tr>\n",
       "      <th>295</th>\n",
       "      <td>8.0</td>\n",
       "      <td>13.0</td>\n",
       "      <td>14.0</td>\n",
       "      <td>NaN</td>\n",
       "      <td>NaN</td>\n",
       "      <td>NaN</td>\n",
       "      <td>NaN</td>\n",
       "      <td>NaN</td>\n",
       "    </tr>\n",
       "    <tr>\n",
       "      <th>296</th>\n",
       "      <td>4.0</td>\n",
       "      <td>6.0</td>\n",
       "      <td>9.0</td>\n",
       "      <td>11.0</td>\n",
       "      <td>NaN</td>\n",
       "      <td>NaN</td>\n",
       "      <td>NaN</td>\n",
       "      <td>NaN</td>\n",
       "    </tr>\n",
       "    <tr>\n",
       "      <th>297</th>\n",
       "      <td>2.0</td>\n",
       "      <td>4.0</td>\n",
       "      <td>8.0</td>\n",
       "      <td>11.0</td>\n",
       "      <td>12.0</td>\n",
       "      <td>NaN</td>\n",
       "      <td>NaN</td>\n",
       "      <td>NaN</td>\n",
       "    </tr>\n",
       "    <tr>\n",
       "      <th>298</th>\n",
       "      <td>5.0</td>\n",
       "      <td>6.0</td>\n",
       "      <td>7.0</td>\n",
       "      <td>9.0</td>\n",
       "      <td>13.0</td>\n",
       "      <td>14.0</td>\n",
       "      <td>16.0</td>\n",
       "      <td>NaN</td>\n",
       "    </tr>\n",
       "    <tr>\n",
       "      <th>299</th>\n",
       "      <td>5.0</td>\n",
       "      <td>6.0</td>\n",
       "      <td>NaN</td>\n",
       "      <td>NaN</td>\n",
       "      <td>NaN</td>\n",
       "      <td>NaN</td>\n",
       "      <td>NaN</td>\n",
       "      <td>NaN</td>\n",
       "    </tr>\n",
       "  </tbody>\n",
       "</table>\n",
       "<p>300 rows × 8 columns</p>\n",
       "</div>"
      ],
      "text/plain": [
       "     atmpt1  atmpt2  atmpt3  atmpt4  atmpt5  atmpt6  atmpt7  atmpt8\n",
       "0       5.0    14.0     NaN     NaN     NaN     NaN     NaN     NaN\n",
       "1       0.0     2.0    10.0    12.0     NaN     NaN     NaN     NaN\n",
       "2       3.0     5.0    13.0    14.0    16.0    17.0    19.0     NaN\n",
       "3       1.0     3.0     4.0     7.0     9.0    10.0    14.0    17.0\n",
       "4      15.0    16.0    17.0     NaN     NaN     NaN     NaN     NaN\n",
       "..      ...     ...     ...     ...     ...     ...     ...     ...\n",
       "295     8.0    13.0    14.0     NaN     NaN     NaN     NaN     NaN\n",
       "296     4.0     6.0     9.0    11.0     NaN     NaN     NaN     NaN\n",
       "297     2.0     4.0     8.0    11.0    12.0     NaN     NaN     NaN\n",
       "298     5.0     6.0     7.0     9.0    13.0    14.0    16.0     NaN\n",
       "299     5.0     6.0     NaN     NaN     NaN     NaN     NaN     NaN\n",
       "\n",
       "[300 rows x 8 columns]"
      ]
     },
     "metadata": {},
     "execution_count": 33
    }
   ],
   "metadata": {}
  },
  {
   "cell_type": "markdown",
   "source": [
    "# Exploratory Data Analysis"
   ],
   "metadata": {}
  },
  {
   "cell_type": "markdown",
   "source": [
    "## 1) Are there any trends that can be seen by observing the average score per attempt?"
   ],
   "metadata": {}
  },
  {
   "cell_type": "code",
   "execution_count": 34,
   "source": [
    "means = df.mean()\r\n",
    "\r\n",
    "means"
   ],
   "outputs": [
    {
     "output_type": "execute_result",
     "data": {
      "text/plain": [
       "atmpt1     3.666667\n",
       "atmpt2     6.910112\n",
       "atmpt3     9.445946\n",
       "atmpt4    11.492063\n",
       "atmpt5    13.251656\n",
       "atmpt6    14.752294\n",
       "atmpt7    16.400000\n",
       "atmpt8    17.750000\n",
       "dtype: float64"
      ]
     },
     "metadata": {},
     "execution_count": 34
    }
   ],
   "metadata": {
    "ExecuteTime": {
     "end_time": "2021-09-12T03:20:11.228759Z",
     "start_time": "2021-09-12T03:20:11.214798Z"
    }
   }
  },
  {
   "cell_type": "code",
   "execution_count": 35,
   "source": [
    "sns.barplot(x=means.index, y=means, palette=\"viridis\")\r\n",
    "\r\n",
    "plt.title(\"Average Score per Attempt\")"
   ],
   "outputs": [
    {
     "output_type": "execute_result",
     "data": {
      "text/plain": [
       "Text(0.5, 1.0, 'Average Score per Attempt')"
      ]
     },
     "metadata": {},
     "execution_count": 35
    },
    {
     "output_type": "display_data",
     "data": {
      "image/png": "[encoded data removed]",
      "text/plain": [
       "<Figure size 432x288 with 1 Axes>"
      ]
     },
     "metadata": {
      "needs_background": "light"
     }
    }
   ],
   "metadata": {
    "ExecuteTime": {
     "end_time": "2021-09-12T03:29:09.615632Z",
     "start_time": "2021-09-12T03:29:09.420180Z"
    }
   }
  },
  {
   "cell_type": "markdown",
   "source": [
    "As can be seen in the barplot, the average scores are in a **uptrend** where the average score increases as the respondents take more attempts."
   ],
   "metadata": {}
  },
  {
   "cell_type": "markdown",
   "source": [
    "## 2) Are there any trends that can be seen by observing the standard deviation per attempt?"
   ],
   "metadata": {}
  },
  {
   "cell_type": "code",
   "execution_count": 36,
   "source": [
    "stds = df.std()\r\n",
    "\r\n",
    "stds"
   ],
   "outputs": [
    {
     "output_type": "execute_result",
     "data": {
      "text/plain": [
       "atmpt1    4.060029\n",
       "atmpt2    4.390627\n",
       "atmpt3    4.172118\n",
       "atmpt4    3.842122\n",
       "atmpt5    3.390612\n",
       "atmpt6    2.646297\n",
       "atmpt7    1.971955\n",
       "atmpt8    1.564838\n",
       "dtype: float64"
      ]
     },
     "metadata": {},
     "execution_count": 36
    }
   ],
   "metadata": {
    "ExecuteTime": {
     "end_time": "2021-09-12T03:28:11.542201Z",
     "start_time": "2021-09-12T03:28:11.530233Z"
    }
   }
  },
  {
   "cell_type": "code",
   "execution_count": 37,
   "source": [
    "sns.barplot(x=stds.index, y=stds, palette=\"viridis\")\r\n",
    "\r\n",
    "plt.title(\"Standard Deviation of Scores per Attempt\")"
   ],
   "outputs": [
    {
     "output_type": "execute_result",
     "data": {
      "text/plain": [
       "Text(0.5, 1.0, 'Standard Deviation of Scores per Attempt')"
      ]
     },
     "metadata": {},
     "execution_count": 37
    },
    {
     "output_type": "display_data",
     "data": {
      "image/png": "[encoded data removed]",
      "text/plain": [
       "<Figure size 432x288 with 1 Axes>"
      ]
     },
     "metadata": {
      "needs_background": "light"
     }
    }
   ],
   "metadata": {
    "ExecuteTime": {
     "end_time": "2021-09-12T03:32:17.056895Z",
     "start_time": "2021-09-12T03:32:16.877794Z"
    }
   }
  },
  {
   "cell_type": "markdown",
   "source": [
    "As can be seen in the barplot, the standard deviations are in a **downtrend** which means that as the respondents take more and more attempts, the measure of dispersion decreases."
   ],
   "metadata": {}
  },
  {
   "cell_type": "markdown",
   "source": [
    "# Data Mining"
   ],
   "metadata": {}
  },
  {
   "cell_type": "markdown",
   "source": [
    "Import the `RuleMiner` class, this contains all the functions required in order to perform the data mining process."
   ],
   "metadata": {}
  },
  {
   "cell_type": "code",
   "execution_count": 38,
   "source": [
    "from rule_miner import RuleMiner"
   ],
   "outputs": [],
   "metadata": {}
  },
  {
   "cell_type": "markdown",
   "source": [
    "Set `support_t` equal to `10` and `confidence_t` equal to `0.6`. The field `support_t` represents the support threshold, while the field `confidence_t` represents the confidence threshold."
   ],
   "metadata": {}
  },
  {
   "cell_type": "code",
   "execution_count": 39,
   "source": [
    "rule_miner = RuleMiner(10, 0.6)"
   ],
   "outputs": [],
   "metadata": {}
  },
  {
   "cell_type": "markdown",
   "source": [
    "As of now, our dataset is represented as a list of list. Instead of using this representation, we will convert our dataset to a matrix represented as a pandas DataFrame. The DataFrame will contain 300 rows - equivalent to the number of observations in the dataset, and 8 columns - equivalent to the number of distinct items in the dataset. The value in the cell in row x and column y is 1 if item y is in observation (basket) x, otherwise, the value in the cell in row x and column y is 0. This will turn the list of baskets into a one-hot encoded DataFrame."
   ],
   "metadata": {}
  },
  {
   "cell_type": "code",
   "execution_count": 40,
   "source": [
    "syn_df = pd.DataFrame([[0 for _ in range(20)] for _ in range(300)], columns=[i for i in range(20)])\r\n",
    "for i, listitem in enumerate(list):\r\n",
    "    syn_df.iloc[i, listitem] = 1\r\n",
    "\r\n",
    "syn_df"
   ],
   "outputs": [
    {
     "output_type": "execute_result",
     "data": {
      "text/html": [
       "<div>\n",
       "<style scoped>\n",
       "    .dataframe tbody tr th:only-of-type {\n",
       "        vertical-align: middle;\n",
       "    }\n",
       "\n",
       "    .dataframe tbody tr th {\n",
       "        vertical-align: top;\n",
       "    }\n",
       "\n",
       "    .dataframe thead th {\n",
       "        text-align: right;\n",
       "    }\n",
       "</style>\n",
       "<table border=\"1\" class=\"dataframe\">\n",
       "  <thead>\n",
       "    <tr style=\"text-align: right;\">\n",
       "      <th></th>\n",
       "      <th>0</th>\n",
       "      <th>1</th>\n",
       "      <th>2</th>\n",
       "      <th>3</th>\n",
       "      <th>4</th>\n",
       "      <th>5</th>\n",
       "      <th>6</th>\n",
       "      <th>7</th>\n",
       "      <th>8</th>\n",
       "      <th>9</th>\n",
       "      <th>10</th>\n",
       "      <th>11</th>\n",
       "      <th>12</th>\n",
       "      <th>13</th>\n",
       "      <th>14</th>\n",
       "      <th>15</th>\n",
       "      <th>16</th>\n",
       "      <th>17</th>\n",
       "      <th>18</th>\n",
       "      <th>19</th>\n",
       "    </tr>\n",
       "  </thead>\n",
       "  <tbody>\n",
       "    <tr>\n",
       "      <th>0</th>\n",
       "      <td>0</td>\n",
       "      <td>0</td>\n",
       "      <td>0</td>\n",
       "      <td>0</td>\n",
       "      <td>0</td>\n",
       "      <td>1</td>\n",
       "      <td>0</td>\n",
       "      <td>0</td>\n",
       "      <td>0</td>\n",
       "      <td>0</td>\n",
       "      <td>0</td>\n",
       "      <td>0</td>\n",
       "      <td>0</td>\n",
       "      <td>0</td>\n",
       "      <td>1</td>\n",
       "      <td>0</td>\n",
       "      <td>0</td>\n",
       "      <td>0</td>\n",
       "      <td>0</td>\n",
       "      <td>0</td>\n",
       "    </tr>\n",
       "    <tr>\n",
       "      <th>1</th>\n",
       "      <td>1</td>\n",
       "      <td>0</td>\n",
       "      <td>1</td>\n",
       "      <td>0</td>\n",
       "      <td>0</td>\n",
       "      <td>0</td>\n",
       "      <td>0</td>\n",
       "      <td>0</td>\n",
       "      <td>0</td>\n",
       "      <td>0</td>\n",
       "      <td>1</td>\n",
       "      <td>0</td>\n",
       "      <td>1</td>\n",
       "      <td>0</td>\n",
       "      <td>0</td>\n",
       "      <td>0</td>\n",
       "      <td>0</td>\n",
       "      <td>0</td>\n",
       "      <td>0</td>\n",
       "      <td>0</td>\n",
       "    </tr>\n",
       "    <tr>\n",
       "      <th>2</th>\n",
       "      <td>0</td>\n",
       "      <td>0</td>\n",
       "      <td>0</td>\n",
       "      <td>1</td>\n",
       "      <td>0</td>\n",
       "      <td>1</td>\n",
       "      <td>0</td>\n",
       "      <td>0</td>\n",
       "      <td>0</td>\n",
       "      <td>0</td>\n",
       "      <td>0</td>\n",
       "      <td>0</td>\n",
       "      <td>0</td>\n",
       "      <td>1</td>\n",
       "      <td>1</td>\n",
       "      <td>0</td>\n",
       "      <td>1</td>\n",
       "      <td>1</td>\n",
       "      <td>0</td>\n",
       "      <td>1</td>\n",
       "    </tr>\n",
       "    <tr>\n",
       "      <th>3</th>\n",
       "      <td>0</td>\n",
       "      <td>1</td>\n",
       "      <td>0</td>\n",
       "      <td>1</td>\n",
       "      <td>1</td>\n",
       "      <td>0</td>\n",
       "      <td>0</td>\n",
       "      <td>1</td>\n",
       "      <td>0</td>\n",
       "      <td>1</td>\n",
       "      <td>1</td>\n",
       "      <td>0</td>\n",
       "      <td>0</td>\n",
       "      <td>0</td>\n",
       "      <td>1</td>\n",
       "      <td>0</td>\n",
       "      <td>0</td>\n",
       "      <td>1</td>\n",
       "      <td>0</td>\n",
       "      <td>0</td>\n",
       "    </tr>\n",
       "    <tr>\n",
       "      <th>4</th>\n",
       "      <td>0</td>\n",
       "      <td>0</td>\n",
       "      <td>0</td>\n",
       "      <td>0</td>\n",
       "      <td>0</td>\n",
       "      <td>0</td>\n",
       "      <td>0</td>\n",
       "      <td>0</td>\n",
       "      <td>0</td>\n",
       "      <td>0</td>\n",
       "      <td>0</td>\n",
       "      <td>0</td>\n",
       "      <td>0</td>\n",
       "      <td>0</td>\n",
       "      <td>0</td>\n",
       "      <td>1</td>\n",
       "      <td>1</td>\n",
       "      <td>1</td>\n",
       "      <td>0</td>\n",
       "      <td>0</td>\n",
       "    </tr>\n",
       "    <tr>\n",
       "      <th>...</th>\n",
       "      <td>...</td>\n",
       "      <td>...</td>\n",
       "      <td>...</td>\n",
       "      <td>...</td>\n",
       "      <td>...</td>\n",
       "      <td>...</td>\n",
       "      <td>...</td>\n",
       "      <td>...</td>\n",
       "      <td>...</td>\n",
       "      <td>...</td>\n",
       "      <td>...</td>\n",
       "      <td>...</td>\n",
       "      <td>...</td>\n",
       "      <td>...</td>\n",
       "      <td>...</td>\n",
       "      <td>...</td>\n",
       "      <td>...</td>\n",
       "      <td>...</td>\n",
       "      <td>...</td>\n",
       "      <td>...</td>\n",
       "    </tr>\n",
       "    <tr>\n",
       "      <th>295</th>\n",
       "      <td>0</td>\n",
       "      <td>0</td>\n",
       "      <td>0</td>\n",
       "      <td>0</td>\n",
       "      <td>0</td>\n",
       "      <td>0</td>\n",
       "      <td>0</td>\n",
       "      <td>0</td>\n",
       "      <td>1</td>\n",
       "      <td>0</td>\n",
       "      <td>0</td>\n",
       "      <td>0</td>\n",
       "      <td>0</td>\n",
       "      <td>1</td>\n",
       "      <td>1</td>\n",
       "      <td>0</td>\n",
       "      <td>0</td>\n",
       "      <td>0</td>\n",
       "      <td>0</td>\n",
       "      <td>0</td>\n",
       "    </tr>\n",
       "    <tr>\n",
       "      <th>296</th>\n",
       "      <td>0</td>\n",
       "      <td>0</td>\n",
       "      <td>0</td>\n",
       "      <td>0</td>\n",
       "      <td>1</td>\n",
       "      <td>0</td>\n",
       "      <td>1</td>\n",
       "      <td>0</td>\n",
       "      <td>0</td>\n",
       "      <td>1</td>\n",
       "      <td>0</td>\n",
       "      <td>1</td>\n",
       "      <td>0</td>\n",
       "      <td>0</td>\n",
       "      <td>0</td>\n",
       "      <td>0</td>\n",
       "      <td>0</td>\n",
       "      <td>0</td>\n",
       "      <td>0</td>\n",
       "      <td>0</td>\n",
       "    </tr>\n",
       "    <tr>\n",
       "      <th>297</th>\n",
       "      <td>0</td>\n",
       "      <td>0</td>\n",
       "      <td>1</td>\n",
       "      <td>0</td>\n",
       "      <td>1</td>\n",
       "      <td>0</td>\n",
       "      <td>0</td>\n",
       "      <td>0</td>\n",
       "      <td>1</td>\n",
       "      <td>0</td>\n",
       "      <td>0</td>\n",
       "      <td>1</td>\n",
       "      <td>1</td>\n",
       "      <td>0</td>\n",
       "      <td>0</td>\n",
       "      <td>0</td>\n",
       "      <td>0</td>\n",
       "      <td>0</td>\n",
       "      <td>0</td>\n",
       "      <td>0</td>\n",
       "    </tr>\n",
       "    <tr>\n",
       "      <th>298</th>\n",
       "      <td>0</td>\n",
       "      <td>0</td>\n",
       "      <td>0</td>\n",
       "      <td>0</td>\n",
       "      <td>0</td>\n",
       "      <td>1</td>\n",
       "      <td>1</td>\n",
       "      <td>1</td>\n",
       "      <td>0</td>\n",
       "      <td>1</td>\n",
       "      <td>0</td>\n",
       "      <td>0</td>\n",
       "      <td>0</td>\n",
       "      <td>1</td>\n",
       "      <td>1</td>\n",
       "      <td>0</td>\n",
       "      <td>1</td>\n",
       "      <td>0</td>\n",
       "      <td>0</td>\n",
       "      <td>0</td>\n",
       "    </tr>\n",
       "    <tr>\n",
       "      <th>299</th>\n",
       "      <td>0</td>\n",
       "      <td>0</td>\n",
       "      <td>0</td>\n",
       "      <td>0</td>\n",
       "      <td>0</td>\n",
       "      <td>1</td>\n",
       "      <td>1</td>\n",
       "      <td>0</td>\n",
       "      <td>0</td>\n",
       "      <td>0</td>\n",
       "      <td>0</td>\n",
       "      <td>0</td>\n",
       "      <td>0</td>\n",
       "      <td>0</td>\n",
       "      <td>0</td>\n",
       "      <td>0</td>\n",
       "      <td>0</td>\n",
       "      <td>0</td>\n",
       "      <td>0</td>\n",
       "      <td>0</td>\n",
       "    </tr>\n",
       "  </tbody>\n",
       "</table>\n",
       "<p>300 rows × 20 columns</p>\n",
       "</div>"
      ],
      "text/plain": [
       "     0   1   2   3   4   5   6   7   8   9   10  11  12  13  14  15  16  17  \\\n",
       "0     0   0   0   0   0   1   0   0   0   0   0   0   0   0   1   0   0   0   \n",
       "1     1   0   1   0   0   0   0   0   0   0   1   0   1   0   0   0   0   0   \n",
       "2     0   0   0   1   0   1   0   0   0   0   0   0   0   1   1   0   1   1   \n",
       "3     0   1   0   1   1   0   0   1   0   1   1   0   0   0   1   0   0   1   \n",
       "4     0   0   0   0   0   0   0   0   0   0   0   0   0   0   0   1   1   1   \n",
       "..   ..  ..  ..  ..  ..  ..  ..  ..  ..  ..  ..  ..  ..  ..  ..  ..  ..  ..   \n",
       "295   0   0   0   0   0   0   0   0   1   0   0   0   0   1   1   0   0   0   \n",
       "296   0   0   0   0   1   0   1   0   0   1   0   1   0   0   0   0   0   0   \n",
       "297   0   0   1   0   1   0   0   0   1   0   0   1   1   0   0   0   0   0   \n",
       "298   0   0   0   0   0   1   1   1   0   1   0   0   0   1   1   0   1   0   \n",
       "299   0   0   0   0   0   1   1   0   0   0   0   0   0   0   0   0   0   0   \n",
       "\n",
       "     18  19  \n",
       "0     0   0  \n",
       "1     0   0  \n",
       "2     0   1  \n",
       "3     0   0  \n",
       "4     0   0  \n",
       "..   ..  ..  \n",
       "295   0   0  \n",
       "296   0   0  \n",
       "297   0   0  \n",
       "298   0   0  \n",
       "299   0   0  \n",
       "\n",
       "[300 rows x 20 columns]"
      ]
     },
     "metadata": {},
     "execution_count": 40
    }
   ],
   "metadata": {}
  },
  {
   "cell_type": "markdown",
   "source": [
    "Get the frequent itemsets in the dataset by using the `get_frequent_itemsets` function."
   ],
   "metadata": {}
  },
  {
   "cell_type": "code",
   "execution_count": 41,
   "source": [
    "frequent_itemsets = rule_miner.get_frequent_itemsets(syn_df)\r\n",
    "print(frequent_itemsets)"
   ],
   "outputs": [
    {
     "output_type": "stream",
     "name": "stdout",
     "text": [
      "[[3, 4, 5], [3, 5, 7], [3, 5, 13], [3, 5, 14], [4, 14, 15], [5, 7, 8], [5, 7, 14], [5, 8, 18], [5, 9, 13], [5, 13, 16], [5, 14, 16], [8, 11, 15], [11, 13, 15], [13, 14, 15], [13, 15, 18]]\n"
     ]
    }
   ],
   "metadata": {}
  },
  {
   "cell_type": "markdown",
   "source": [
    "The frequent itemsets in the dataset, given the support threshold 10, are the following: \r\n",
    "- `[3, 4, 5], [3, 5, 7], [3, 5, 13], [3, 5, 14], [4, 14, 15], [5, 7, 8], [5, 7, 14], [5, 8, 18], [5, 9, 13], [5, 13, 16], [5, 14, 16], [8, 11, 15], [11, 13, 15], [13, 14, 15], [13, 15, 18]`\r\n"
   ],
   "metadata": {}
  },
  {
   "cell_type": "markdown",
   "source": [
    "List the possible rules for the frequent itemsets in our dataset through using the `get_rules()` function."
   ],
   "metadata": {}
  },
  {
   "cell_type": "code",
   "execution_count": 42,
   "source": [
    "for itemset in frequent_itemsets:\r\n",
    "    print(rule_miner.get_rules(itemset))"
   ],
   "outputs": [
    {
     "output_type": "stream",
     "name": "stdout",
     "text": [
      "[[[3, 4], [5]], [[5], [3, 4]], [[3, 5], [4]], [[4], [3, 5]], [[4, 5], [3]], [[3], [4, 5]]]\n",
      "[[[3, 5], [7]], [[7], [3, 5]], [[3, 7], [5]], [[5], [3, 7]], [[5, 7], [3]], [[3], [5, 7]]]\n",
      "[[[3, 5], [13]], [[13], [3, 5]], [[3, 13], [5]], [[5], [3, 13]], [[5, 13], [3]], [[3], [5, 13]]]\n",
      "[[[3, 5], [14]], [[14], [3, 5]], [[3, 14], [5]], [[5], [3, 14]], [[5, 14], [3]], [[3], [5, 14]]]\n",
      "[[[4, 14], [15]], [[15], [4, 14]], [[4, 15], [14]], [[14], [4, 15]], [[14, 15], [4]], [[4], [14, 15]]]\n",
      "[[[5, 7], [8]], [[8], [5, 7]], [[5, 8], [7]], [[7], [5, 8]], [[7, 8], [5]], [[5], [7, 8]]]\n",
      "[[[5, 7], [14]], [[14], [5, 7]], [[5, 14], [7]], [[7], [5, 14]], [[7, 14], [5]], [[5], [7, 14]]]\n",
      "[[[5, 8], [18]], [[18], [5, 8]], [[5, 18], [8]], [[8], [5, 18]], [[8, 18], [5]], [[5], [8, 18]]]\n",
      "[[[5, 9], [13]], [[13], [5, 9]], [[5, 13], [9]], [[9], [5, 13]], [[9, 13], [5]], [[5], [9, 13]]]\n",
      "[[[5, 13], [16]], [[16], [5, 13]], [[5, 16], [13]], [[13], [5, 16]], [[13, 16], [5]], [[5], [13, 16]]]\n",
      "[[[5, 14], [16]], [[16], [5, 14]], [[5, 16], [14]], [[14], [5, 16]], [[14, 16], [5]], [[5], [14, 16]]]\n",
      "[[[8, 11], [15]], [[15], [8, 11]], [[8, 15], [11]], [[11], [8, 15]], [[11, 15], [8]], [[8], [11, 15]]]\n",
      "[[[11, 13], [15]], [[15], [11, 13]], [[11, 15], [13]], [[13], [11, 15]], [[13, 15], [11]], [[11], [13, 15]]]\n",
      "[[[13, 14], [15]], [[15], [13, 14]], [[13, 15], [14]], [[14], [13, 15]], [[14, 15], [13]], [[13], [14, 15]]]\n",
      "[[[13, 15], [18]], [[18], [13, 15]], [[13, 18], [15]], [[15], [13, 18]], [[15, 18], [13]], [[13], [15, 18]]]\n"
     ]
    }
   ],
   "metadata": {
    "scrolled": true
   }
  },
  {
   "cell_type": "markdown",
   "source": [
    "With the `get_association_rules()` function, let us get the list of association rules with support greater than or equal to the support threshold `support_t` and confidence greater than or equal to the confidence threshold `confidence_t`."
   ],
   "metadata": {}
  },
  {
   "cell_type": "code",
   "execution_count": 43,
   "source": [
    "rules = rule_miner.get_association_rules(syn_df)\r\n",
    "print(rules)"
   ],
   "outputs": [
    {
     "output_type": "stream",
     "name": "stdout",
     "text": [
      "[[[3, 7], [5]], [[5, 9], [13]], [[9, 13], [5]], [[8, 11], [15]]]\n"
     ]
    }
   ],
   "metadata": {
    "scrolled": true
   }
  },
  {
   "cell_type": "markdown",
   "source": [
    "With `support_t` equal to `10`, and `confidence_t` equal to `0.6` the association rules from this dataset are the following:\r\n",
    "- {3, 7} -> {5}\r\n",
    "- {5, 9} -> {13}\r\n",
    "- {9, 13} -> {5}\r\n",
    "- {8, 11} -> {15}"
   ],
   "metadata": {}
  },
  {
   "cell_type": "markdown",
   "source": [
    "Using the `get_confidence` function, we will verify if the confidence level of the association rules are within the confidence threshold of the rule miner."
   ],
   "metadata": {}
  },
  {
   "cell_type": "code",
   "execution_count": 44,
   "source": [
    "print('{:.2f}'.format(rule_miner.get_confidence(syn_df, [[3, 7], [5]])))\r\n",
    "print('{:.2f}'.format(rule_miner.get_confidence(syn_df, [[5, 9], [13]])))\r\n",
    "print('{:.2f}'.format(rule_miner.get_confidence(syn_df, [[9, 13], [5]])))\r\n",
    "print('{:.2f}'.format(rule_miner.get_confidence(syn_df, [[8, 11], [15]])))"
   ],
   "outputs": [
    {
     "output_type": "stream",
     "name": "stdout",
     "text": [
      "0.68\n",
      "0.65\n",
      "0.65\n",
      "0.79\n"
     ]
    }
   ],
   "metadata": {}
  },
  {
   "cell_type": "markdown",
   "source": [
    "# Insights and Conclusions"
   ],
   "metadata": {}
  },
  {
   "cell_type": "markdown",
   "source": [
    "In the context of the dataset, we were able to extract key pieces of information from the 300 observations of test scores done on a retakeable online test. \r\n",
    "\r\n",
    "In order to visualize and use the data properly, we had to convert the initial DataFrame into a list of baskets in order to convert into a one hot encoded DataFrame in order to apply Association Rule Mining. The `get_frequent_itemsets` function will then be used in order to get the frequently occuring set of scores from the dataset that is based on the support threshold which in this case is `10`. Afterwards, we get the association rules using the `get_association_rules` function and get the association rules based on the `support threshold of 10` and the `confidence threshold of 0.6`. We can then see the four association rules that are  {3, 7} -> {5}, {5, 9} -> {13},  {9, 13} -> {5} and {8, 11} -> {15} respectively. This means that students who scores the scores on the left hand side of the association rule are likely to get the score on the right hand side of the association rule. (e.g: students who score 3 and 7 while taking the test are more likely to score a 5 on one of their previous or future retakes) In order to ensure that these association rules are even valid in the first place, we can check using the `get_confidence` function and see the respective confidence for that rule. As seen above, the threshold for the the four association rules mentioned are 0.68 (68%), 0.65 (65%), 0.65 (65%) and 0.79 (79%) respectively. This proves that the confidence for all the association rules are in fact within the predefined confidence threshold we set to do the data mining."
   ],
   "metadata": {}
  }
 ],
 "metadata": {
  "interpreter": {
   "hash": "63fd5069d213b44bf678585dea6b12cceca9941eaf7f819626cde1f2670de90d"
  },
  "kernelspec": {
   "name": "python3",
   "display_name": "Python 3.9.4 64-bit"
  },
  "language_info": {
   "codemirror_mode": {
    "name": "ipython",
    "version": 3
   },
   "file_extension": ".py",
   "mimetype": "text/x-python",
   "name": "python",
   "nbconvert_exporter": "python",
   "pygments_lexer": "ipython3",
   "version": "3.9.4"
  },
  "toc": {
   "base_numbering": 1,
   "nav_menu": {},
   "number_sections": true,
   "sideBar": true,
   "skip_h1_title": false,
   "title_cell": "Table of Contents",
   "title_sidebar": "Contents",
   "toc_cell": false,
   "toc_position": {},
   "toc_section_display": true,
   "toc_window_display": false
  }
 },
 "nbformat": 4,
 "nbformat_minor": 5
}