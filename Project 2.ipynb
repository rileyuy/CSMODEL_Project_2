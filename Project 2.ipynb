{
 "cells": [
  {
   "cell_type": "markdown",
   "metadata": {},
   "source": [
    "<h1> CSMODEL Project 2 </h1>\n",
    "<h2> Group 28</h2>\n",
    "Berenguer, Beatrice <br>\n",
    "Lim, Christopher <br>\n",
    "Uy, Justin Riley\n"
   ]
  },
  {
   "cell_type": "code",
   "execution_count": 1,
   "metadata": {
    "ExecuteTime": {
     "end_time": "2021-09-12T03:22:41.647424Z",
     "start_time": "2021-09-12T03:22:37.335382Z"
    }
   },
   "outputs": [],
   "source": [
    "import numpy as np\n",
    "import pandas as pd\n",
    "import matplotlib.pyplot as plt\n",
    "import seaborn as sns"
   ]
  },
  {
   "cell_type": "markdown",
   "metadata": {},
   "source": [
    "# Dataset Representation"
   ]
  },
  {
   "cell_type": "markdown",
   "metadata": {},
   "source": [
    "## Processing of Dataset into Dataframe\n",
    "Load the dataset into a DataFrame. Perform necessary operations to properly load your dataset into a DataFrame."
   ]
  },
  {
   "cell_type": "code",
   "execution_count": 2,
   "metadata": {
    "ExecuteTime": {
     "end_time": "2021-09-12T03:17:07.909460Z",
     "start_time": "2021-09-12T03:17:07.756651Z"
    }
   },
   "outputs": [
    {
     "data": {
      "text/plain": [
       "[array([ 5, 14]),\n",
       " array([ 0,  2, 10, 12]),\n",
       " array([ 3,  5, 13, 14, 16, 17, 19]),\n",
       " array([ 1,  3,  4,  7,  9, 10, 14, 17]),\n",
       " array([15, 16, 17]),\n",
       " array([ 3,  4,  5,  6,  7,  8, 12, 15]),\n",
       " array([ 1,  4, 10, 12, 13, 19]),\n",
       " array([ 2,  6, 15, 19]),\n",
       " array([ 2, 16]),\n",
       " array([ 0,  7, 11, 12, 13, 15, 16]),\n",
       " array([9]),\n",
       " array([2, 3, 5, 7, 8]),\n",
       " array([ 2,  4,  6,  9, 12, 13, 18, 19]),\n",
       " array([ 0,  1,  2,  7, 13, 15, 17, 19]),\n",
       " array([ 2,  7, 14, 19]),\n",
       " array([ 4,  5,  9, 13]),\n",
       " array([4]),\n",
       " array([ 5, 19]),\n",
       " array([ 0,  6, 16, 18, 19]),\n",
       " array([ 3,  4, 11, 13, 14, 15]),\n",
       " array([ 2, 11]),\n",
       " array([ 0,  1,  7,  9, 10, 11, 13]),\n",
       " array([ 0,  5,  8,  9, 12, 13, 16, 18]),\n",
       " array([ 4,  8, 10, 12, 14, 15, 17]),\n",
       " array([ 5,  7, 14]),\n",
       " array([ 0,  1,  3,  4,  8, 10, 12, 14]),\n",
       " array([3]),\n",
       " array([10, 14]),\n",
       " array([ 2,  5, 13, 15]),\n",
       " array([ 4,  6,  9, 10, 11, 13, 17]),\n",
       " array([ 0,  2, 11, 12, 13, 14, 15, 19]),\n",
       " array([10, 17]),\n",
       " array([19]),\n",
       " array([ 2,  8, 11, 12, 14, 15, 18]),\n",
       " array([11]),\n",
       " array([ 6,  7,  8, 12, 13, 15, 17, 18]),\n",
       " array([ 3,  8, 16]),\n",
       " array([11]),\n",
       " array([ 1,  5,  8,  9, 13, 16]),\n",
       " array([ 8, 10, 11, 13, 15]),\n",
       " array([15]),\n",
       " array([ 1,  4,  6, 10, 13]),\n",
       " array([ 3,  5,  7, 10, 11, 14, 19]),\n",
       " array([ 1,  4,  6, 11, 13, 15, 17, 18]),\n",
       " array([ 2,  5,  9, 11, 18, 19]),\n",
       " array([0, 2]),\n",
       " array([ 7,  8,  9, 12, 14, 15, 16]),\n",
       " array([ 1, 17]),\n",
       " array([ 0,  2,  3,  8, 13, 14, 16, 18]),\n",
       " array([11, 14, 17]),\n",
       " array([ 0,  3,  4,  5,  6, 15, 17, 19]),\n",
       " array([ 1,  3,  5,  7,  8, 16]),\n",
       " array([ 2,  5, 15]),\n",
       " array([ 1,  7,  8, 10, 15]),\n",
       " array([6]),\n",
       " array([ 5,  7, 14, 17, 18]),\n",
       " array([ 6,  7, 11, 15]),\n",
       " array([ 3,  8, 12]),\n",
       " array([ 0,  3,  9, 11, 12, 15, 17]),\n",
       " array([ 1,  7,  9, 12, 15, 18]),\n",
       " array([ 4,  5,  6,  7,  8, 14, 16, 18]),\n",
       " array([ 0,  7, 19]),\n",
       " array([ 1,  2, 13, 16, 17]),\n",
       " array([ 0,  5, 13, 14]),\n",
       " array([ 8,  9, 11, 12, 13, 15, 18]),\n",
       " array([ 3,  4,  7, 12, 13, 16, 18, 19]),\n",
       " array([4, 7]),\n",
       " array([8]),\n",
       " array([ 1,  3, 11, 13, 14, 19]),\n",
       " array([ 2,  5,  8, 16, 18]),\n",
       " array([ 2, 14, 17]),\n",
       " array([ 4,  5, 11, 13, 14, 15, 16]),\n",
       " array([12]),\n",
       " array([ 3,  4,  5, 12, 13]),\n",
       " array([ 3,  5, 10, 14, 16, 17, 18]),\n",
       " array([ 0,  1,  4, 10, 11, 12, 19]),\n",
       " array([ 7, 17]),\n",
       " array([17]),\n",
       " array([3, 5]),\n",
       " array([10, 12]),\n",
       " array([ 0,  1,  8, 10, 14, 18]),\n",
       " array([ 0,  4,  5,  6, 15, 17]),\n",
       " array([13, 16]),\n",
       " array([ 0,  6,  7,  9, 13, 16, 17]),\n",
       " array([ 3, 13]),\n",
       " array([ 3,  4,  7,  9, 11, 17]),\n",
       " array([ 5, 13]),\n",
       " array([ 2,  3,  4,  5,  7, 11, 17, 18]),\n",
       " array([ 3,  7,  9, 15, 17]),\n",
       " array([ 1,  7,  8,  9, 12, 15, 17]),\n",
       " array([ 0,  1,  2,  4,  9, 11, 14]),\n",
       " array([ 2,  4,  9, 18]),\n",
       " array([ 9, 11]),\n",
       " array([ 0,  3,  4,  5,  7, 11, 14, 19]),\n",
       " array([ 3,  7, 11, 13, 16, 18]),\n",
       " array([ 4,  6,  8, 10, 12, 14, 17]),\n",
       " array([ 0,  1,  4, 17]),\n",
       " array([9]),\n",
       " array([ 7, 13, 17, 19]),\n",
       " array([ 0,  8, 12, 16]),\n",
       " array([0, 1, 5, 8, 9]),\n",
       " array([13]),\n",
       " array([4, 5, 8]),\n",
       " array([12]),\n",
       " array([ 2,  4,  5,  7,  8, 12, 17]),\n",
       " array([15, 16]),\n",
       " array([ 4,  6,  9, 11, 14]),\n",
       " array([ 5,  6, 16]),\n",
       " array([ 1,  9, 10]),\n",
       " array([ 5, 11, 12, 19]),\n",
       " array([ 4,  5,  7, 16]),\n",
       " array([ 0,  1,  6, 13, 16, 18]),\n",
       " array([ 4, 14, 15, 16]),\n",
       " array([ 1,  3,  5,  7, 13, 14, 17]),\n",
       " array([ 0,  5,  6, 14]),\n",
       " array([14]),\n",
       " array([ 6, 14]),\n",
       " array([ 0,  5,  8, 11, 15, 18, 19]),\n",
       " array([5]),\n",
       " array([3, 8]),\n",
       " array([ 0,  2,  6, 11, 13, 15, 18]),\n",
       " array([ 0,  7, 15, 16, 17]),\n",
       " array([12, 15]),\n",
       " array([ 1, 15]),\n",
       " array([6]),\n",
       " array([ 2,  7,  8, 18]),\n",
       " array([ 6,  8, 11, 15, 17, 19]),\n",
       " array([2, 6]),\n",
       " array([ 0,  4,  7, 12, 14, 15, 19]),\n",
       " array([ 1,  2,  3,  8, 11, 14, 18]),\n",
       " array([19]),\n",
       " array([11, 12, 13]),\n",
       " array([ 3,  5, 10, 13, 17]),\n",
       " array([ 2,  6,  7,  8, 15, 16, 17, 18]),\n",
       " array([0, 1, 3, 4]),\n",
       " array([ 3,  5,  9, 10, 12, 13]),\n",
       " array([ 0,  2,  5,  6,  9, 12, 13, 15]),\n",
       " array([ 0,  6, 12, 19]),\n",
       " array([0, 4, 6]),\n",
       " array([ 4,  8, 10, 13, 14, 15, 16, 18]),\n",
       " array([ 4,  7, 10, 13, 14]),\n",
       " array([2, 3]),\n",
       " array([ 2,  3,  5, 14, 15, 16, 19]),\n",
       " array([2, 6]),\n",
       " array([ 0,  2,  5,  6, 10, 13, 17]),\n",
       " array([ 0,  3,  9, 12, 17]),\n",
       " array([ 6, 11, 14, 16]),\n",
       " array([ 6, 12]),\n",
       " array([ 2,  6, 10, 12, 13, 14, 17, 18]),\n",
       " array([ 1,  5,  6,  8, 12, 13, 15]),\n",
       " array([10, 11, 12, 15, 17]),\n",
       " array([ 0,  5, 10, 14, 15, 17]),\n",
       " array([ 3,  8, 14, 16]),\n",
       " array([ 8, 15, 17, 19]),\n",
       " array([ 0,  3,  5,  7, 11, 18]),\n",
       " array([ 0,  3,  8, 12, 18, 19]),\n",
       " array([ 4, 13, 15]),\n",
       " array([ 6, 16, 19]),\n",
       " array([ 1,  9, 17, 19]),\n",
       " array([ 0,  1, 10, 13, 14]),\n",
       " array([ 8,  9, 13, 14, 15]),\n",
       " array([ 1, 11]),\n",
       " array([ 5,  8, 13, 16]),\n",
       " array([ 1,  5,  7,  8, 10, 13, 18]),\n",
       " array([ 6,  7,  8, 12, 17, 18]),\n",
       " array([ 0,  2,  9, 12, 15, 18, 19]),\n",
       " array([ 8, 10, 12, 15, 16, 19]),\n",
       " array([ 1, 12]),\n",
       " array([ 1,  2,  7,  8,  9, 10, 17, 19]),\n",
       " array([ 3,  5,  9, 13, 14, 15, 16, 18]),\n",
       " array([ 1,  7, 10, 14, 19]),\n",
       " array([ 6,  7, 19]),\n",
       " array([ 0,  2,  3,  4,  6, 10, 13]),\n",
       " array([0]),\n",
       " array([ 1, 14]),\n",
       " array([ 2,  5,  6, 10, 13, 16]),\n",
       " array([ 6,  8, 10, 11, 13, 14, 15, 16]),\n",
       " array([ 1, 12, 13, 15, 16, 18]),\n",
       " array([ 7, 11]),\n",
       " array([ 5, 19]),\n",
       " array([12]),\n",
       " array([ 0,  5, 10, 11, 13, 16]),\n",
       " array([4, 8]),\n",
       " array([ 4, 12, 14]),\n",
       " array([ 3,  4,  5,  8,  9, 12, 16, 19]),\n",
       " array([ 0,  2,  5, 10, 16, 17, 19]),\n",
       " array([ 2,  3, 14]),\n",
       " array([ 5, 13, 18]),\n",
       " array([ 2,  8,  9, 11, 15, 16]),\n",
       " array([ 0,  4, 13, 15, 18]),\n",
       " array([ 4,  9, 14, 15, 18]),\n",
       " array([ 0,  5,  7, 18, 19]),\n",
       " array([ 8, 18]),\n",
       " array([0, 6, 7, 8]),\n",
       " array([12, 15, 19]),\n",
       " array([4, 6]),\n",
       " array([14]),\n",
       " array([ 0,  5,  8, 11, 18]),\n",
       " array([ 0,  2,  3,  5, 17]),\n",
       " array([ 0,  4,  8,  9, 10, 11, 15]),\n",
       " array([ 2,  3,  4,  6,  9, 11, 12, 14]),\n",
       " array([ 2,  3,  4, 10]),\n",
       " array([ 1,  4,  6,  7,  9, 10, 14]),\n",
       " array([10, 11, 13, 14, 15, 19]),\n",
       " array([7]),\n",
       " array([ 1, 10, 11, 13, 15]),\n",
       " array([ 9, 15, 17]),\n",
       " array([ 2,  4,  7, 12, 13, 16, 17, 19]),\n",
       " array([4, 8]),\n",
       " array([ 4, 10, 11, 13, 19]),\n",
       " array([ 0,  1,  2,  3,  6, 17, 18, 19]),\n",
       " array([ 1,  4, 11, 12, 15, 17]),\n",
       " array([0]),\n",
       " array([ 4,  6, 12, 14]),\n",
       " array([ 2,  4, 13, 14, 15, 17, 18, 19]),\n",
       " array([ 1, 14, 15, 19]),\n",
       " array([ 1,  2,  7, 19]),\n",
       " array([ 6, 10, 17]),\n",
       " array([ 3,  4,  5,  8, 11, 13, 14, 15]),\n",
       " array([ 1,  3,  5,  6,  8, 19]),\n",
       " array([ 0,  6, 12, 15, 17]),\n",
       " array([ 3,  4,  5,  9, 11, 13, 17]),\n",
       " array([ 0,  5,  6, 13, 18]),\n",
       " array([ 1,  7, 16]),\n",
       " array([ 4, 10, 13, 16]),\n",
       " array([1, 4, 6]),\n",
       " array([ 0,  4, 14]),\n",
       " array([2]),\n",
       " array([19]),\n",
       " array([ 0,  9, 10]),\n",
       " array([ 1,  3,  5,  6,  7, 11, 13, 14]),\n",
       " array([1]),\n",
       " array([ 1,  3,  5,  6,  7, 16, 18]),\n",
       " array([2]),\n",
       " array([12, 14, 19]),\n",
       " array([ 5,  6,  9, 17]),\n",
       " array([ 4,  9, 10, 11, 12, 15, 18]),\n",
       " array([ 5, 12]),\n",
       " array([ 3,  5,  6,  8, 12, 14, 16, 18]),\n",
       " array([ 4,  6,  8, 10, 15]),\n",
       " array([ 0,  2,  5,  6,  7,  9, 11]),\n",
       " array([ 2, 17]),\n",
       " array([ 2,  5,  6,  8, 10, 11, 15, 18]),\n",
       " array([ 3,  4,  5, 18]),\n",
       " array([ 1, 10, 18]),\n",
       " array([5]),\n",
       " array([ 0,  4, 15, 16]),\n",
       " array([13, 15, 19]),\n",
       " array([ 0,  3, 15]),\n",
       " array([ 1,  3,  7, 11, 15]),\n",
       " array([2, 5, 6, 7, 8]),\n",
       " array([ 5,  8,  9, 10, 12, 13, 18, 19]),\n",
       " array([ 3,  5,  7,  8,  9, 13, 14]),\n",
       " array([ 7, 17]),\n",
       " array([10, 13]),\n",
       " array([ 0, 15]),\n",
       " array([ 1,  5, 12, 15]),\n",
       " array([ 4,  7, 11, 14, 17]),\n",
       " array([ 0,  1,  2,  4, 19]),\n",
       " array([5, 8]),\n",
       " array([ 1,  2,  5, 14, 16]),\n",
       " array([ 0,  6, 10, 12]),\n",
       " array([13]),\n",
       " array([1]),\n",
       " array([ 0,  5, 12, 13, 16, 19]),\n",
       " array([11, 13]),\n",
       " array([ 3,  5,  7, 12, 14, 16, 18, 19]),\n",
       " array([ 0,  1,  4,  8, 14, 15, 17]),\n",
       " array([ 3,  4, 12, 13, 16]),\n",
       " array([ 2,  4,  8, 13]),\n",
       " array([ 6, 18]),\n",
       " array([ 2,  3,  5,  7,  8, 12]),\n",
       " array([ 6, 12, 17]),\n",
       " array([ 2,  5,  7,  9, 13, 17, 18, 19]),\n",
       " array([18]),\n",
       " array([0, 1, 3, 4]),\n",
       " array([7]),\n",
       " array([ 0,  1,  6, 10, 12, 14, 17, 18]),\n",
       " array([ 0,  4,  6, 12, 15, 16, 18]),\n",
       " array([ 1,  2,  5, 11, 12, 13, 16, 17]),\n",
       " array([ 1,  3,  9, 10, 15, 17]),\n",
       " array([ 2,  3, 10, 11, 18]),\n",
       " array([ 0,  1,  3,  4,  5,  9, 12, 17]),\n",
       " array([ 2, 13, 14, 15, 16]),\n",
       " array([ 4, 11, 13, 14]),\n",
       " array([ 6,  7,  9, 10, 12, 16, 17, 18]),\n",
       " array([ 4,  9, 12, 17, 19]),\n",
       " array([ 4, 10]),\n",
       " array([ 3,  8, 12, 16, 18]),\n",
       " array([ 9, 16]),\n",
       " array([ 1, 11, 15]),\n",
       " array([14]),\n",
       " array([ 1,  5, 11, 13, 15, 16, 18, 19]),\n",
       " array([ 5,  7,  8, 12, 19]),\n",
       " array([ 1,  5,  8, 11, 13, 15, 18, 19]),\n",
       " array([ 8, 13, 14]),\n",
       " array([ 4,  6,  9, 11]),\n",
       " array([ 2,  4,  8, 11, 12]),\n",
       " array([ 5,  6,  7,  9, 13, 14, 16]),\n",
       " array([5, 6])]"
      ]
     },
     "execution_count": 2,
     "metadata": {},
     "output_type": "execute_result"
    }
   ],
   "source": [
    "col_names = [\"atmpt1\", \"atmpt2\", \"atmpt3\", \"atmpt4\", \"atmpt5\", \"atmpt6\", \"atmpt7\", \"atmpt8\"]\n",
    "df = pd.read_csv('Dataset1.csv', names=col_names)\n",
    "\n",
    "df = (df.fillna(0)).astype({'atmpt1' : int, 'atmpt2' : int, 'atmpt3' : int, 'atmpt4' : int, 'atmpt5' : int, 'atmpt6' : int, 'atmpt7' : int, 'atmpt8' : int})\n",
    "cols = [\"atmpt1\", \"atmpt2\", \"atmpt3\", \"atmpt4\", \"atmpt5\", \"atmpt6\", \"atmpt7\", \"atmpt8\"]\n",
    "df[cols] = df[cols].replace(0, np.nan)\n",
    "df[\"atmpt1\"] = df[\"atmpt1\"].replace(np.nan, 0)\n",
    "indices, rowSeries = zip(*df.iterrows())\n",
    "\n",
    "list = []\n",
    "for x in rowSeries:\n",
    "    remove_nan = x.dropna()\n",
    "    remove_nan = remove_nan.astype(int)\n",
    "    list.append(remove_nan.to_numpy())\n",
    "\n",
    "list"
   ]
  },
  {
   "cell_type": "markdown",
   "metadata": {},
   "source": [
    "## Brief Description of the Dataset"
   ]
  },
  {
   "cell_type": "markdown",
   "metadata": {},
   "source": [
    "The dataset we chose is named \"Dataset1\" which contains 300 observations containing a series of numbers sorted in ascending order. The amount of numbers per row varies between observations and is not consistent within the dataset. Looking at the initial structure of the dataset after turning into a Datframe, we can safely assume that it is an Associate Rule Mining dataset."
   ]
  },
  {
   "cell_type": "markdown",
   "metadata": {},
   "source": [
    "## Structure of the Dataset"
   ]
  },
  {
   "cell_type": "code",
   "execution_count": 3,
   "metadata": {
    "ExecuteTime": {
     "end_time": "2021-09-12T03:17:07.924429Z",
     "start_time": "2021-09-12T03:17:07.913458Z"
    }
   },
   "outputs": [
    {
     "data": {
      "text/plain": [
       "Index(['atmpt1', 'atmpt2', 'atmpt3', 'atmpt4', 'atmpt5', 'atmpt6', 'atmpt7',\n",
       "       'atmpt8'],\n",
       "      dtype='object')"
      ]
     },
     "execution_count": 3,
     "metadata": {},
     "output_type": "execute_result"
    }
   ],
   "source": [
    "df.columns"
   ]
  },
  {
   "cell_type": "code",
   "execution_count": 4,
   "metadata": {
    "ExecuteTime": {
     "end_time": "2021-09-12T03:17:07.956343Z",
     "start_time": "2021-09-12T03:17:07.927422Z"
    }
   },
   "outputs": [
    {
     "name": "stdout",
     "output_type": "stream",
     "text": [
      "<class 'pandas.core.frame.DataFrame'>\n",
      "RangeIndex: 300 entries, 0 to 299\n",
      "Data columns (total 8 columns):\n",
      " #   Column  Non-Null Count  Dtype  \n",
      "---  ------  --------------  -----  \n",
      " 0   atmpt1  300 non-null    float64\n",
      " 1   atmpt2  267 non-null    float64\n",
      " 2   atmpt3  222 non-null    float64\n",
      " 3   atmpt4  189 non-null    float64\n",
      " 4   atmpt5  151 non-null    float64\n",
      " 5   atmpt6  109 non-null    float64\n",
      " 6   atmpt7  80 non-null     float64\n",
      " 7   atmpt8  40 non-null     float64\n",
      "dtypes: float64(8)\n",
      "memory usage: 18.9 KB\n"
     ]
    }
   ],
   "source": [
    "df.info()"
   ]
  },
  {
   "cell_type": "markdown",
   "metadata": {},
   "source": [
    "## Discuss the observations in the dataset file. \n",
    "What does each observation represent? Since the dataset description is not provided, the group can presume the entity represented by each observation. For example:\n",
    "- For an association rule mining dataset, the group may presume that an observation represents a customer transaction from a store, a list of words in a document, and other similar examples.\n",
    "- For a clustering dataset, the group may presume that an observation represents a song from a group of songs, an image from a group of images, and other similar examples.\n",
    "- For a collaborative filtering dataset, the group may presume that an observation represents a movie being rated by people, a book being rated by readers, and other similar examples."
   ]
  },
  {
   "cell_type": "markdown",
   "metadata": {},
   "source": [
    "The Dataset that will be used for this Project is named \"Dataset1\" which contains 300 observations each containing a series of numbers which, based on our internal discussion, we will represent as a student's set of scores for a retakeable online quiz. As the dataset is an **association rule mining** dataset, we chose to represent the Dataset as such because its data fits the description of our representation quite well and is very relevant to our current situation during the pandemic."
   ]
  },
  {
   "cell_type": "markdown",
   "metadata": {},
   "source": [
    "## Discuss the variables in the dataset file. \n",
    "Since the description of the dataset is not provided, the group can presume the entity represented by each variable. For example:\n",
    "- For an association rule mining dataset, the group may presume that a variable represents the presence of a certain item in a customer transaction from a store, the presence of a word in a document, and other similar examples.\n",
    "- For a clustering dataset, the group may presume that a variable represents a certain characteristic or feature of a song (i.e., value representing the tempo, rhythm, pitch, and others), a certain characteristic or feature of an image (i.e., amount of black, amount of white, and others), and other similar examples.\n",
    "- For a collaborative filtering dataset, the group may presume that a variable represents a rating of a specific person to a movie,"
   ]
  },
  {
   "cell_type": "markdown",
   "metadata": {},
   "source": [
    "There are 8 variables in the dataset our group has chosen and they represent attempts made by the student to answer the online quiz. This is why we chose to name every column (as seen below) after each of the students' attempt in taking the online quiz. "
   ]
  },
  {
   "cell_type": "code",
   "execution_count": 5,
   "metadata": {
    "ExecuteTime": {
     "end_time": "2021-09-12T02:16:36.401472Z",
     "start_time": "2021-09-12T02:16:36.381489Z"
    }
   },
   "outputs": [
    {
     "data": {
      "text/plain": [
       "Index(['atmpt1', 'atmpt2', 'atmpt3', 'atmpt4', 'atmpt5', 'atmpt6', 'atmpt7',\n",
       "       'atmpt8'],\n",
       "      dtype='object')"
      ]
     },
     "execution_count": 5,
     "metadata": {},
     "output_type": "execute_result"
    }
   ],
   "source": [
    "df.columns"
   ]
  },
  {
   "cell_type": "code",
   "execution_count": 20,
   "metadata": {},
   "outputs": [
    {
     "data": {
      "text/html": [
       "<div>\n",
       "<style scoped>\n",
       "    .dataframe tbody tr th:only-of-type {\n",
       "        vertical-align: middle;\n",
       "    }\n",
       "\n",
       "    .dataframe tbody tr th {\n",
       "        vertical-align: top;\n",
       "    }\n",
       "\n",
       "    .dataframe thead th {\n",
       "        text-align: right;\n",
       "    }\n",
       "</style>\n",
       "<table border=\"1\" class=\"dataframe\">\n",
       "  <thead>\n",
       "    <tr style=\"text-align: right;\">\n",
       "      <th></th>\n",
       "      <th>atmpt1</th>\n",
       "      <th>atmpt2</th>\n",
       "      <th>atmpt3</th>\n",
       "      <th>atmpt4</th>\n",
       "      <th>atmpt5</th>\n",
       "      <th>atmpt6</th>\n",
       "      <th>atmpt7</th>\n",
       "      <th>atmpt8</th>\n",
       "    </tr>\n",
       "  </thead>\n",
       "  <tbody>\n",
       "    <tr>\n",
       "      <th>0</th>\n",
       "      <td>5.0</td>\n",
       "      <td>14.0</td>\n",
       "      <td>NaN</td>\n",
       "      <td>NaN</td>\n",
       "      <td>NaN</td>\n",
       "      <td>NaN</td>\n",
       "      <td>NaN</td>\n",
       "      <td>NaN</td>\n",
       "    </tr>\n",
       "    <tr>\n",
       "      <th>1</th>\n",
       "      <td>0.0</td>\n",
       "      <td>2.0</td>\n",
       "      <td>10.0</td>\n",
       "      <td>12.0</td>\n",
       "      <td>NaN</td>\n",
       "      <td>NaN</td>\n",
       "      <td>NaN</td>\n",
       "      <td>NaN</td>\n",
       "    </tr>\n",
       "    <tr>\n",
       "      <th>2</th>\n",
       "      <td>3.0</td>\n",
       "      <td>5.0</td>\n",
       "      <td>13.0</td>\n",
       "      <td>14.0</td>\n",
       "      <td>16.0</td>\n",
       "      <td>17.0</td>\n",
       "      <td>19.0</td>\n",
       "      <td>NaN</td>\n",
       "    </tr>\n",
       "    <tr>\n",
       "      <th>3</th>\n",
       "      <td>1.0</td>\n",
       "      <td>3.0</td>\n",
       "      <td>4.0</td>\n",
       "      <td>7.0</td>\n",
       "      <td>9.0</td>\n",
       "      <td>10.0</td>\n",
       "      <td>14.0</td>\n",
       "      <td>17.0</td>\n",
       "    </tr>\n",
       "    <tr>\n",
       "      <th>4</th>\n",
       "      <td>15.0</td>\n",
       "      <td>16.0</td>\n",
       "      <td>17.0</td>\n",
       "      <td>NaN</td>\n",
       "      <td>NaN</td>\n",
       "      <td>NaN</td>\n",
       "      <td>NaN</td>\n",
       "      <td>NaN</td>\n",
       "    </tr>\n",
       "    <tr>\n",
       "      <th>...</th>\n",
       "      <td>...</td>\n",
       "      <td>...</td>\n",
       "      <td>...</td>\n",
       "      <td>...</td>\n",
       "      <td>...</td>\n",
       "      <td>...</td>\n",
       "      <td>...</td>\n",
       "      <td>...</td>\n",
       "    </tr>\n",
       "    <tr>\n",
       "      <th>295</th>\n",
       "      <td>8.0</td>\n",
       "      <td>13.0</td>\n",
       "      <td>14.0</td>\n",
       "      <td>NaN</td>\n",
       "      <td>NaN</td>\n",
       "      <td>NaN</td>\n",
       "      <td>NaN</td>\n",
       "      <td>NaN</td>\n",
       "    </tr>\n",
       "    <tr>\n",
       "      <th>296</th>\n",
       "      <td>4.0</td>\n",
       "      <td>6.0</td>\n",
       "      <td>9.0</td>\n",
       "      <td>11.0</td>\n",
       "      <td>NaN</td>\n",
       "      <td>NaN</td>\n",
       "      <td>NaN</td>\n",
       "      <td>NaN</td>\n",
       "    </tr>\n",
       "    <tr>\n",
       "      <th>297</th>\n",
       "      <td>2.0</td>\n",
       "      <td>4.0</td>\n",
       "      <td>8.0</td>\n",
       "      <td>11.0</td>\n",
       "      <td>12.0</td>\n",
       "      <td>NaN</td>\n",
       "      <td>NaN</td>\n",
       "      <td>NaN</td>\n",
       "    </tr>\n",
       "    <tr>\n",
       "      <th>298</th>\n",
       "      <td>5.0</td>\n",
       "      <td>6.0</td>\n",
       "      <td>7.0</td>\n",
       "      <td>9.0</td>\n",
       "      <td>13.0</td>\n",
       "      <td>14.0</td>\n",
       "      <td>16.0</td>\n",
       "      <td>NaN</td>\n",
       "    </tr>\n",
       "    <tr>\n",
       "      <th>299</th>\n",
       "      <td>5.0</td>\n",
       "      <td>6.0</td>\n",
       "      <td>NaN</td>\n",
       "      <td>NaN</td>\n",
       "      <td>NaN</td>\n",
       "      <td>NaN</td>\n",
       "      <td>NaN</td>\n",
       "      <td>NaN</td>\n",
       "    </tr>\n",
       "  </tbody>\n",
       "</table>\n",
       "<p>300 rows × 8 columns</p>\n",
       "</div>"
      ],
      "text/plain": [
       "     atmpt1  atmpt2  atmpt3  atmpt4  atmpt5  atmpt6  atmpt7  atmpt8\n",
       "0       5.0    14.0     NaN     NaN     NaN     NaN     NaN     NaN\n",
       "1       0.0     2.0    10.0    12.0     NaN     NaN     NaN     NaN\n",
       "2       3.0     5.0    13.0    14.0    16.0    17.0    19.0     NaN\n",
       "3       1.0     3.0     4.0     7.0     9.0    10.0    14.0    17.0\n",
       "4      15.0    16.0    17.0     NaN     NaN     NaN     NaN     NaN\n",
       "..      ...     ...     ...     ...     ...     ...     ...     ...\n",
       "295     8.0    13.0    14.0     NaN     NaN     NaN     NaN     NaN\n",
       "296     4.0     6.0     9.0    11.0     NaN     NaN     NaN     NaN\n",
       "297     2.0     4.0     8.0    11.0    12.0     NaN     NaN     NaN\n",
       "298     5.0     6.0     7.0     9.0    13.0    14.0    16.0     NaN\n",
       "299     5.0     6.0     NaN     NaN     NaN     NaN     NaN     NaN\n",
       "\n",
       "[300 rows x 8 columns]"
      ]
     },
     "execution_count": 20,
     "metadata": {},
     "output_type": "execute_result"
    }
   ],
   "source": [
    "df"
   ]
  },
  {
   "cell_type": "markdown",
   "metadata": {},
   "source": [
    "# Exploratory Data Analysis\n",
    "Perform exploratory data analysis comprehensively to gain a good understanding of your\n",
    "dataset. The exploratory data analysis should guide you in formulating the research\n",
    "questions of the project.\n",
    "\n",
    "In this section of the notebook, you must fulfill the following:\n",
    "• Identify 2 interesting exploratory data analysis questions. Properly state the\n",
    "questions in the notebook.\n",
    "\n",
    "• Answer the EDA questions using both:\n",
    "    o Numerical Summaries – measures of central tendency, measures of\n",
    "    dispersion, and correlation\n",
    "    \n",
    "    o Visualization – Appropriate visualization should be used. Each visualization should be accompanied by a brief explanation.\n",
    "\n",
    "• To emphasize, both numerical summary and visualization should be present to answer each question. The whole process should be supported with verbose textual descriptions of your procedures and findings."
   ]
  },
  {
   "cell_type": "markdown",
   "metadata": {},
   "source": [
    "## 1) Are there any trends that can be seen by observing the average score per attempt?"
   ]
  },
  {
   "cell_type": "code",
   "execution_count": 6,
   "metadata": {
    "ExecuteTime": {
     "end_time": "2021-09-12T03:20:11.228759Z",
     "start_time": "2021-09-12T03:20:11.214798Z"
    }
   },
   "outputs": [
    {
     "data": {
      "text/plain": [
       "atmpt1     3.666667\n",
       "atmpt2     6.910112\n",
       "atmpt3     9.445946\n",
       "atmpt4    11.492063\n",
       "atmpt5    13.251656\n",
       "atmpt6    14.752294\n",
       "atmpt7    16.400000\n",
       "atmpt8    17.750000\n",
       "dtype: float64"
      ]
     },
     "execution_count": 6,
     "metadata": {},
     "output_type": "execute_result"
    }
   ],
   "source": [
    "means = df.mean()\n",
    "\n",
    "means"
   ]
  },
  {
   "cell_type": "code",
   "execution_count": 7,
   "metadata": {
    "ExecuteTime": {
     "end_time": "2021-09-12T03:29:09.615632Z",
     "start_time": "2021-09-12T03:29:09.420180Z"
    }
   },
   "outputs": [
    {
     "data": {
      "text/plain": [
       "Text(0.5, 1.0, 'Average Score per Attempt')"
      ]
     },
     "execution_count": 7,
     "metadata": {},
     "output_type": "execute_result"
    },
    {
     "data": {
      "image/png": "[encoded data removed]",
      "text/plain": [
       "<Figure size 432x288 with 1 Axes>"
      ]
     },
     "metadata": {
      "needs_background": "light"
     },
     "output_type": "display_data"
    }
   ],
   "source": [
    "sns.barplot(x=means.index, y=means, palette=\"viridis\")\n",
    "\n",
    "plt.title(\"Average Score per Attempt\")"
   ]
  },
  {
   "cell_type": "markdown",
   "metadata": {},
   "source": [
    "As can be seen in the barplot, the average scores are in a **uptrend** where the average score increases as the respondents take more attempts."
   ]
  },
  {
   "cell_type": "markdown",
   "metadata": {},
   "source": [
    "## 2) Are there any trends that can be seen by observing the standard deviation per attempt?"
   ]
  },
  {
   "cell_type": "code",
   "execution_count": 8,
   "metadata": {
    "ExecuteTime": {
     "end_time": "2021-09-12T03:28:11.542201Z",
     "start_time": "2021-09-12T03:28:11.530233Z"
    }
   },
   "outputs": [
    {
     "data": {
      "text/plain": [
       "atmpt1    4.060029\n",
       "atmpt2    4.390627\n",
       "atmpt3    4.172118\n",
       "atmpt4    3.842122\n",
       "atmpt5    3.390612\n",
       "atmpt6    2.646297\n",
       "atmpt7    1.971955\n",
       "atmpt8    1.564838\n",
       "dtype: float64"
      ]
     },
     "execution_count": 8,
     "metadata": {},
     "output_type": "execute_result"
    }
   ],
   "source": [
    "stds = df.std()\n",
    "\n",
    "stds"
   ]
  },
  {
   "cell_type": "code",
   "execution_count": 9,
   "metadata": {
    "ExecuteTime": {
     "end_time": "2021-09-12T03:32:17.056895Z",
     "start_time": "2021-09-12T03:32:16.877794Z"
    }
   },
   "outputs": [
    {
     "data": {
      "text/plain": [
       "Text(0.5, 1.0, 'Standard Deviation of Scores per Attempt')"
      ]
     },
     "execution_count": 9,
     "metadata": {},
     "output_type": "execute_result"
    },
    {
     "data": {
      "image/png": "[encoded data removed]",
      "text/plain": [
       "<Figure size 432x288 with 1 Axes>"
      ]
     },
     "metadata": {
      "needs_background": "light"
     },
     "output_type": "display_data"
    }
   ],
   "source": [
    "sns.barplot(x=stds.index, y=stds, palette=\"viridis\")\n",
    "\n",
    "plt.title(\"Standard Deviation of Scores per Attempt\")"
   ]
  },
  {
   "cell_type": "markdown",
   "metadata": {},
   "source": [
    "As can be seen in the barplot, the standard deviations are in a **downtrend** which means that as the respondents take more and more attempts, the measure of dispersion decreases."
   ]
  },
  {
   "cell_type": "markdown",
   "metadata": {},
   "source": [
    "# Data Mining"
   ]
  },
  {
   "cell_type": "markdown",
   "metadata": {},
   "source": [
    "Import the `RuleMiner` class"
   ]
  },
  {
   "cell_type": "code",
   "execution_count": 34,
   "metadata": {},
   "outputs": [],
   "source": [
    "from rule_miner import RuleMiner"
   ]
  },
  {
   "cell_type": "markdown",
   "metadata": {},
   "source": [
    "Set `support_t` equal to `10` and `confidence_t` equal to `0.6`. The field `support_t` represents the support threshold, while the field `confidence_t` represents the confidence threshold."
   ]
  },
  {
   "cell_type": "code",
   "execution_count": 35,
   "metadata": {},
   "outputs": [],
   "source": [
    "rule_miner = RuleMiner(10, 0.6)"
   ]
  },
  {
   "cell_type": "markdown",
   "metadata": {},
   "source": [
    "Get the frequent itemsets in the dataset by using the `get_frequent_itemsets` function in `ruler_miner.py`."
   ]
  },
  {
   "cell_type": "code",
   "execution_count": 36,
   "metadata": {},
   "outputs": [
    {
     "name": "stdout",
     "output_type": "stream",
     "text": [
      "[['atmpt1', 'atmpt2', 'atmpt3', 'atmpt4', 'atmpt5', 'atmpt6', 'atmpt7', 'atmpt8']]\n"
     ]
    }
   ],
   "source": [
    "frequent_itemsets = rule_miner.get_frequent_itemsets(df)\n",
    "print(frequent_itemsets)"
   ]
  },
  {
   "cell_type": "markdown",
   "metadata": {},
   "source": [
    "The frequent itemsets in the dataset, given the support threshold 10, are the following: \n",
    "- `['atmpt1', 'atmpt2', 'atmpt3', 'atmpt4', 'atmpt5', 'atmpt6', 'atmpt7', 'atmpt8']`\n"
   ]
  },
  {
   "cell_type": "markdown",
   "metadata": {},
   "source": [
    "List the possible rules for the frequent itemsets in our dataset through using the `get_rules()` function in `rule_miner.py`."
   ]
  },
  {
   "cell_type": "code",
   "execution_count": 37,
   "metadata": {
    "scrolled": true
   },
   "outputs": [
    {
     "name": "stdout",
     "output_type": "stream",
     "text": [
      "[[['atmpt1', 'atmpt2', 'atmpt3', 'atmpt4', 'atmpt5', 'atmpt6', 'atmpt7'], ['atmpt8']], [['atmpt8'], ['atmpt1', 'atmpt2', 'atmpt3', 'atmpt4', 'atmpt5', 'atmpt6', 'atmpt7']], [['atmpt1', 'atmpt2', 'atmpt3', 'atmpt4', 'atmpt5', 'atmpt6', 'atmpt8'], ['atmpt7']], [['atmpt7'], ['atmpt1', 'atmpt2', 'atmpt3', 'atmpt4', 'atmpt5', 'atmpt6', 'atmpt8']], [['atmpt1', 'atmpt2', 'atmpt3', 'atmpt4', 'atmpt5', 'atmpt7', 'atmpt8'], ['atmpt6']], [['atmpt6'], ['atmpt1', 'atmpt2', 'atmpt3', 'atmpt4', 'atmpt5', 'atmpt7', 'atmpt8']], [['atmpt1', 'atmpt2', 'atmpt3', 'atmpt4', 'atmpt6', 'atmpt7', 'atmpt8'], ['atmpt5']], [['atmpt5'], ['atmpt1', 'atmpt2', 'atmpt3', 'atmpt4', 'atmpt6', 'atmpt7', 'atmpt8']], [['atmpt1', 'atmpt2', 'atmpt3', 'atmpt5', 'atmpt6', 'atmpt7', 'atmpt8'], ['atmpt4']], [['atmpt4'], ['atmpt1', 'atmpt2', 'atmpt3', 'atmpt5', 'atmpt6', 'atmpt7', 'atmpt8']], [['atmpt1', 'atmpt2', 'atmpt4', 'atmpt5', 'atmpt6', 'atmpt7', 'atmpt8'], ['atmpt3']], [['atmpt3'], ['atmpt1', 'atmpt2', 'atmpt4', 'atmpt5', 'atmpt6', 'atmpt7', 'atmpt8']], [['atmpt1', 'atmpt3', 'atmpt4', 'atmpt5', 'atmpt6', 'atmpt7', 'atmpt8'], ['atmpt2']], [['atmpt2'], ['atmpt1', 'atmpt3', 'atmpt4', 'atmpt5', 'atmpt6', 'atmpt7', 'atmpt8']], [['atmpt2', 'atmpt3', 'atmpt4', 'atmpt5', 'atmpt6', 'atmpt7', 'atmpt8'], ['atmpt1']], [['atmpt1'], ['atmpt2', 'atmpt3', 'atmpt4', 'atmpt5', 'atmpt6', 'atmpt7', 'atmpt8']]]\n"
     ]
    }
   ],
   "source": [
    "for itemset in frequent_itemsets:\n",
    "    print(rule_miner.get_rules(itemset))"
   ]
  },
  {
   "cell_type": "markdown",
   "metadata": {},
   "source": [
    "With the `get_association_rules()` function, let us get the list of association rules with support greater than or equal to the support threshold `support_t` and confidence greater than or equal to the confidence threshold `confidence_t`."
   ]
  },
  {
   "cell_type": "code",
   "execution_count": 38,
   "metadata": {
    "scrolled": true
   },
   "outputs": [
    {
     "name": "stdout",
     "output_type": "stream",
     "text": [
      "[[['atmpt1', 'atmpt2', 'atmpt3', 'atmpt4', 'atmpt5', 'atmpt6', 'atmpt7'], ['atmpt8']], [['atmpt8'], ['atmpt1', 'atmpt2', 'atmpt3', 'atmpt4', 'atmpt5', 'atmpt6', 'atmpt7']], [['atmpt1', 'atmpt2', 'atmpt3', 'atmpt4', 'atmpt5', 'atmpt6', 'atmpt8'], ['atmpt7']], [['atmpt7'], ['atmpt1', 'atmpt2', 'atmpt3', 'atmpt4', 'atmpt5', 'atmpt6', 'atmpt8']], [['atmpt1', 'atmpt2', 'atmpt3', 'atmpt4', 'atmpt5', 'atmpt7', 'atmpt8'], ['atmpt6']], [['atmpt6'], ['atmpt1', 'atmpt2', 'atmpt3', 'atmpt4', 'atmpt5', 'atmpt7', 'atmpt8']], [['atmpt1', 'atmpt2', 'atmpt3', 'atmpt4', 'atmpt6', 'atmpt7', 'atmpt8'], ['atmpt5']], [['atmpt5'], ['atmpt1', 'atmpt2', 'atmpt3', 'atmpt4', 'atmpt6', 'atmpt7', 'atmpt8']], [['atmpt1', 'atmpt2', 'atmpt3', 'atmpt5', 'atmpt6', 'atmpt7', 'atmpt8'], ['atmpt4']], [['atmpt4'], ['atmpt1', 'atmpt2', 'atmpt3', 'atmpt5', 'atmpt6', 'atmpt7', 'atmpt8']], [['atmpt1', 'atmpt2', 'atmpt4', 'atmpt5', 'atmpt6', 'atmpt7', 'atmpt8'], ['atmpt3']], [['atmpt3'], ['atmpt1', 'atmpt2', 'atmpt4', 'atmpt5', 'atmpt6', 'atmpt7', 'atmpt8']], [['atmpt1', 'atmpt3', 'atmpt4', 'atmpt5', 'atmpt6', 'atmpt7', 'atmpt8'], ['atmpt2']], [['atmpt2'], ['atmpt1', 'atmpt3', 'atmpt4', 'atmpt5', 'atmpt6', 'atmpt7', 'atmpt8']], [['atmpt2', 'atmpt3', 'atmpt4', 'atmpt5', 'atmpt6', 'atmpt7', 'atmpt8'], ['atmpt1']], [['atmpt1'], ['atmpt2', 'atmpt3', 'atmpt4', 'atmpt5', 'atmpt6', 'atmpt7', 'atmpt8']]]\n"
     ]
    }
   ],
   "source": [
    "rules = rule_miner.get_association_rules(df)\n",
    "print(rules)"
   ]
  },
  {
   "cell_type": "markdown",
   "metadata": {},
   "source": [
    "With `support_t` equal to `10`, and `confidence_t` equal to `0.6` the association rules from this dataset are the following:\n",
    "- maya q na lagay"
   ]
  },
  {
   "cell_type": "markdown",
   "metadata": {},
   "source": [
    "# Insights and Conclusions\n",
    "Clearly state your answers from the data to answer each provided question. Make sure that all conclusions are backed up with proper data mining procedures."
   ]
  },
  {
   "cell_type": "code",
   "execution_count": null,
   "metadata": {},
   "outputs": [],
   "source": []
  }
 ],
 "metadata": {
  "interpreter": {
   "hash": "63fd5069d213b44bf678585dea6b12cceca9941eaf7f819626cde1f2670de90d"
  },
  "kernelspec": {
   "display_name": "Python 3",
   "language": "python",
   "name": "python3"
  },
  "language_info": {
   "codemirror_mode": {
    "name": "ipython",
    "version": 3
   },
   "file_extension": ".py",
   "mimetype": "text/x-python",
   "name": "python",
   "nbconvert_exporter": "python",
   "pygments_lexer": "ipython3",
   "version": "3.8.5"
  },
  "toc": {
   "base_numbering": 1,
   "nav_menu": {},
   "number_sections": true,
   "sideBar": true,
   "skip_h1_title": false,
   "title_cell": "Table of Contents",
   "title_sidebar": "Contents",
   "toc_cell": false,
   "toc_position": {},
   "toc_section_display": true,
   "toc_window_display": false
  }
 },
 "nbformat": 4,
 "nbformat_minor": 5
}
