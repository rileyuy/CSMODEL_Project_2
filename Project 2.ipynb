{
 "cells": [
  {
   "cell_type": "code",
   "execution_count": null,
   "source": [
    "import numpy as np\r\n",
    "import pandas as pd\r\n",
    "import matplotlib.pyplot as plt"
   ],
   "outputs": [],
   "metadata": {}
  },
  {
   "cell_type": "code",
   "execution_count": 1,
   "source": [
    "# Dataset Representation"
   ],
   "outputs": [],
   "metadata": {}
  },
  {
   "cell_type": "markdown",
   "source": [
    "## Processing of Dataset into Dataframe\r\n",
    "Load the dataset into a DataFrame. Perform necessary operations to properly load your dataset into a DataFrame."
   ],
   "metadata": {}
  },
  {
   "cell_type": "code",
   "execution_count": null,
   "source": [],
   "outputs": [],
   "metadata": {}
  },
  {
   "cell_type": "markdown",
   "source": [
    "## Brief Description of the Dataset\r\n",
    "State the name of the dataset. Describe the structure of the dataset file. How\r\n",
    "many observations are there in the dataset? How many variables are there in the\r\n",
    "dataset?"
   ],
   "metadata": {}
  },
  {
   "cell_type": "code",
   "execution_count": null,
   "source": [],
   "outputs": [],
   "metadata": {}
  },
  {
   "cell_type": "markdown",
   "source": [
    "# Exploratory Data Analysis\r\n",
    "Perform exploratory data analysis comprehensively to gain a good understanding of your\r\n",
    "dataset. The exploratory data analysis should guide you in formulating the research\r\n",
    "questions of the project.\r\n",
    "\r\n",
    "In this section of the notebook, you must fulfill the following:\r\n",
    "• Identify 2 interesting exploratory data analysis questions. Properly state the\r\n",
    "questions in the notebook.\r\n",
    "\r\n",
    "• Answer the EDA questions using both:\r\n",
    "    o Numerical Summaries – measures of central tendency, measures of\r\n",
    "    dispersion, and correlation\r\n",
    "    \r\n",
    "    o Visualization – Appropriate visualization should be used. Each visualization should be accompanied by a brief explanation.\r\n",
    "\r\n",
    "• To emphasize, both numerical summary and visualization should be present to answer each question. The whole process should be supported with verbose textual descriptions of your procedures and findings."
   ],
   "metadata": {}
  },
  {
   "cell_type": "markdown",
   "source": [
    "# Data Mining\r\n",
    "\r\n",
    "Identify the correct data mining technique to apply to your chosen dataset. The technique that you will apply should be appropriate for the dataset. Apply the data mining technique with the provided hyperparameters and answer the provided questions.\r\n",
    "\r\n",
    "For Association Rule Mining:\r\n",
    "- Use the rule_miner.py file from our exercises. Make sure that your code is working properly. Set support_t to 10 and the confidence_t to 0.6.\r\n",
    "- Perform association rule mining.\r\n",
    "- Answer the question: Using the provided support threshold and confidence threshold, what is/are the association rules that we derived from the dataset?\r\n",
    "\r\n",
    "For Clustering:\r\n",
    "- State the number of observations per group before clustering.\r\n",
    "- Use the kmeans.py file from our exercises. Make sure that your code is working properly. Set the k, start_var, end_var, num_observations, and data to their appropriate values according to the dataset.\r\n",
    "- Perform clustering with maximum iterations set to 300.\r\n",
    "- Answer the question: After clustering, how many observations of each class are included in per cluster?\r\n",
    "\r\n",
    "For Collaborative Filtering:\r\n",
    "- Use the collaborative_filtering.py file from our exercises. Make sure that your code is working properly. Set k to 5.\r\n",
    "- Perform collaborative filtering.\r\n",
    "- Answer the question: Give the top 5 items that are most similar to the item at index 0.\r\n",
    "\r\n",
    "For Collaborative Filtering:\r\n",
    "- Use the collaborative_filtering.py file from our exercises. Make sure that your code is working properly. Set k to 5.\r\n",
    "- Perform collaborative filtering.\r\n",
    "- Answer the question: Give the top 5 items that are most similar to the item at index 0."
   ],
   "metadata": {}
  },
  {
   "cell_type": "markdown",
   "source": [
    "# Insights and Conclusions\r\n",
    "Clearly state your answers from the data to answer each provided question. Make sure that all conclusions are backed up with proper data mining procedures."
   ],
   "metadata": {}
  }
 ],
 "metadata": {
  "kernelspec": {
   "display_name": "Python 3",
   "language": "python",
   "name": "python3"
  },
  "language_info": {
   "codemirror_mode": {
    "name": "ipython",
    "version": 3
   },
   "file_extension": ".py",
   "mimetype": "text/x-python",
   "name": "python",
   "nbconvert_exporter": "python",
   "pygments_lexer": "ipython3",
   "version": "3.8.8"
  }
 },
 "nbformat": 4,
 "nbformat_minor": 5
}