{
 "cells": [
  {
   "cell_type": "code",
   "execution_count": 2,
   "source": [
    "import numpy as np\r\n",
    "import pandas as pd\r\n",
    "import matplotlib.pyplot as plt"
   ],
   "outputs": [],
   "metadata": {}
  },
  {
   "cell_type": "markdown",
   "source": [
    "# Dataset Representation"
   ],
   "metadata": {}
  },
  {
   "cell_type": "markdown",
   "source": [
    "## Processing of Dataset into Dataframe\r\n",
    "Load the dataset into a DataFrame. Perform necessary operations to properly load your dataset into a DataFrame."
   ],
   "metadata": {}
  },
  {
   "cell_type": "code",
   "execution_count": 3,
   "source": [
    "col_names = [\"atmpt1\", \"atmpt2\", \"atmpt3\", \"atmpt4\", \"atmpt5\", \"atmpt6\", \"atmpt7\", \"atmpt8\"]\r\n",
    "df = pd.read_csv('Dataset1.csv', names=col_names,dtype=np.float64)\r\n",
    "df.head"
   ],
   "outputs": [
    {
     "output_type": "execute_result",
     "data": {
      "text/plain": [
       "<bound method NDFrame.head of      atmpt1  atmpt2  atmpt3  atmpt4  atmpt5  atmpt6  atmpt7  atmpt8\n",
       "0       5.0    14.0     NaN     NaN     NaN     NaN     NaN     NaN\n",
       "1       0.0     2.0    10.0    12.0     NaN     NaN     NaN     NaN\n",
       "2       3.0     5.0    13.0    14.0    16.0    17.0    19.0     NaN\n",
       "3       1.0     3.0     4.0     7.0     9.0    10.0    14.0    17.0\n",
       "4      15.0    16.0    17.0     NaN     NaN     NaN     NaN     NaN\n",
       "..      ...     ...     ...     ...     ...     ...     ...     ...\n",
       "295     8.0    13.0    14.0     NaN     NaN     NaN     NaN     NaN\n",
       "296     4.0     6.0     9.0    11.0     NaN     NaN     NaN     NaN\n",
       "297     2.0     4.0     8.0    11.0    12.0     NaN     NaN     NaN\n",
       "298     5.0     6.0     7.0     9.0    13.0    14.0    16.0     NaN\n",
       "299     5.0     6.0     NaN     NaN     NaN     NaN     NaN     NaN\n",
       "\n",
       "[300 rows x 8 columns]>"
      ]
     },
     "metadata": {},
     "execution_count": 3
    }
   ],
   "metadata": {}
  },
  {
   "cell_type": "markdown",
   "source": [
    "## Brief Description of the Dataset"
   ],
   "metadata": {}
  },
  {
   "cell_type": "markdown",
   "source": [
    "The dataset we chose is named \"Dataset1\" which contains 300 observations containing a series of numbers sorted in ascending order. The amount of numbers per row varies between observations and is not consistent within the dataset. Looking at the initial structure of the dataset afetr turning into a Datframe, we can safely assume that it is an Associate Rule Mining dataset."
   ],
   "metadata": {}
  },
  {
   "cell_type": "markdown",
   "source": [
    "## Structure of the Dataset"
   ],
   "metadata": {}
  },
  {
   "cell_type": "code",
   "execution_count": 4,
   "source": [
    "df.columns"
   ],
   "outputs": [
    {
     "output_type": "execute_result",
     "data": {
      "text/plain": [
       "Index(['atmpt1', 'atmpt2', 'atmpt3', 'atmpt4', 'atmpt5', 'atmpt6', 'atmpt7',\n",
       "       'atmpt8'],\n",
       "      dtype='object')"
      ]
     },
     "metadata": {},
     "execution_count": 4
    }
   ],
   "metadata": {}
  },
  {
   "cell_type": "code",
   "execution_count": 5,
   "source": [
    "df.info()"
   ],
   "outputs": [
    {
     "output_type": "stream",
     "name": "stdout",
     "text": [
      "<class 'pandas.core.frame.DataFrame'>\n",
      "RangeIndex: 300 entries, 0 to 299\n",
      "Data columns (total 8 columns):\n",
      " #   Column  Non-Null Count  Dtype  \n",
      "---  ------  --------------  -----  \n",
      " 0   atmpt1  300 non-null    float64\n",
      " 1   atmpt2  267 non-null    float64\n",
      " 2   atmpt3  222 non-null    float64\n",
      " 3   atmpt4  189 non-null    float64\n",
      " 4   atmpt5  151 non-null    float64\n",
      " 5   atmpt6  109 non-null    float64\n",
      " 6   atmpt7  80 non-null     float64\n",
      " 7   atmpt8  40 non-null     float64\n",
      "dtypes: float64(8)\n",
      "memory usage: 18.9 KB\n"
     ]
    }
   ],
   "metadata": {}
  },
  {
   "cell_type": "markdown",
   "source": [
    "## Discuss the observations in the dataset file. \r\n",
    "What does each observation represent? Since the dataset description is not provided, the group can presume the entity represented by each observation. For example:\r\n",
    "- For an association rule mining dataset, the group may presume that an observation represents a customer transaction from a store, a list of words in a document, and other similar examples.\r\n",
    "- For a clustering dataset, the group may presume that an observation represents a song from a group of songs, an image from a group of images, and other similar examples.\r\n",
    "- For a collaborative filtering dataset, the group may presume that an observation represents a movie being rated by people, a book being rated by readers, and other similar examples."
   ],
   "metadata": {}
  },
  {
   "cell_type": "markdown",
   "source": [
    "The Dataset that will be used for this Project is named \"Dataset1\" which contains 300 observations each containing a series of numbers which, based on our internal discussion, we will represent as a student's set of scores for a retakeable online quiz. As the dataset is an association rule mining dataset, We chose to represent the Dataset as such because its data fits the description of our representation quite well and its very relevant to our current situation during the pandemic."
   ],
   "metadata": {}
  },
  {
   "cell_type": "markdown",
   "source": [
    "## Discuss the variables in the dataset file. \r\n",
    "Since the description of the dataset is not provided, the group can presume the entity represented by each variable. For example:\r\n",
    "- For an association rule mining dataset, the group may presume that a variable represents the presence of a certain item in a customer transaction from a store, the presence of a word in a document, and other similar examples.\r\n",
    "- For a clustering dataset, the group may presume that a variable represents a certain characteristic or feature of a song (i.e., value representing the tempo, rhythm, pitch, and others), a certain characteristic or feature of an image (i.e., amount of black, amount of white, and others), and other similar examples.\r\n",
    "- For a collaborative filtering dataset, the group may presume that a variable represents a rating of a specific person to a movie,"
   ],
   "metadata": {}
  },
  {
   "cell_type": "markdown",
   "source": [
    "There are 8 variables in the dataset our group has chosen and they represent attempts made by the student to answer the online quiz. This is why we chose to name every column (as seen below) after each of the students' attempt in taking the online quiz. "
   ],
   "metadata": {}
  },
  {
   "cell_type": "code",
   "execution_count": 6,
   "source": [
    "df.columns"
   ],
   "outputs": [
    {
     "output_type": "execute_result",
     "data": {
      "text/plain": [
       "Index(['atmpt1', 'atmpt2', 'atmpt3', 'atmpt4', 'atmpt5', 'atmpt6', 'atmpt7',\n",
       "       'atmpt8'],\n",
       "      dtype='object')"
      ]
     },
     "metadata": {},
     "execution_count": 6
    }
   ],
   "metadata": {}
  },
  {
   "cell_type": "markdown",
   "source": [
    "# Exploratory Data Analysis\r\n",
    "Perform exploratory data analysis comprehensively to gain a good understanding of your\r\n",
    "dataset. The exploratory data analysis should guide you in formulating the research\r\n",
    "questions of the project.\r\n",
    "\r\n",
    "In this section of the notebook, you must fulfill the following:\r\n",
    "• Identify 2 interesting exploratory data analysis questions. Properly state the\r\n",
    "questions in the notebook.\r\n",
    "\r\n",
    "• Answer the EDA questions using both:\r\n",
    "    o Numerical Summaries – measures of central tendency, measures of\r\n",
    "    dispersion, and correlation\r\n",
    "    \r\n",
    "    o Visualization – Appropriate visualization should be used. Each visualization should be accompanied by a brief explanation.\r\n",
    "\r\n",
    "• To emphasize, both numerical summary and visualization should be present to answer each question. The whole process should be supported with verbose textual descriptions of your procedures and findings."
   ],
   "metadata": {}
  },
  {
   "cell_type": "code",
   "execution_count": null,
   "source": [],
   "outputs": [],
   "metadata": {}
  },
  {
   "cell_type": "markdown",
   "source": [
    "# Data Mining\r\n",
    "\r\n",
    "Identify the correct data mining technique to apply to your chosen dataset. The technique that you will apply should be appropriate for the dataset. Apply the data mining technique with the provided hyperparameters and answer the provided questions.\r\n",
    "\r\n",
    "For Association Rule Mining:\r\n",
    "- Use the rule_miner.py file from our exercises. Make sure that your code is working properly. Set support_t to 10 and the confidence_t to 0.6.\r\n",
    "- Perform association rule mining.\r\n",
    "- Answer the question: Using the provided support threshold and confidence threshold, what is/are the association rules that we derived from the dataset?\r\n",
    "\r\n",
    "For Clustering:\r\n",
    "- State the number of observations per group before clustering.\r\n",
    "- Use the kmeans.py file from our exercises. Make sure that your code is working properly. Set the k, start_var, end_var, num_observations, and data to their appropriate values according to the dataset.\r\n",
    "- Perform clustering with maximum iterations set to 300.\r\n",
    "- Answer the question: After clustering, how many observations of each class are included in per cluster?\r\n",
    "\r\n",
    "For Collaborative Filtering:\r\n",
    "- Use the collaborative_filtering.py file from our exercises. Make sure that your code is working properly. Set k to 5.\r\n",
    "- Perform collaborative filtering.\r\n",
    "- Answer the question: Give the top 5 items that are most similar to the item at index 0."
   ],
   "metadata": {}
  },
  {
   "cell_type": "code",
   "execution_count": null,
   "source": [],
   "outputs": [],
   "metadata": {}
  },
  {
   "cell_type": "markdown",
   "source": [
    "# Insights and Conclusions\r\n",
    "Clearly state your answers from the data to answer each provided question. Make sure that all conclusions are backed up with proper data mining procedures."
   ],
   "metadata": {}
  },
  {
   "cell_type": "code",
   "execution_count": null,
   "source": [],
   "outputs": [],
   "metadata": {}
  }
 ],
 "metadata": {
  "kernelspec": {
   "name": "python3",
   "display_name": "Python 3.9.4 64-bit"
  },
  "language_info": {
   "codemirror_mode": {
    "name": "ipython",
    "version": 3
   },
   "file_extension": ".py",
   "mimetype": "text/x-python",
   "name": "python",
   "nbconvert_exporter": "python",
   "pygments_lexer": "ipython3",
   "version": "3.9.4"
  },
  "interpreter": {
   "hash": "63fd5069d213b44bf678585dea6b12cceca9941eaf7f819626cde1f2670de90d"
  }
 },
 "nbformat": 4,
 "nbformat_minor": 5
}